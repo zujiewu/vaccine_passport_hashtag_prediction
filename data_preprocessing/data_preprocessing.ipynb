{
 "cells": [
  {
   "cell_type": "code",
   "execution_count": 1,
   "id": "1161239f",
   "metadata": {},
   "outputs": [],
   "source": [
    "import pandas as pd\n",
    "import glob\n",
    "import os\n",
    "import ast\n",
    "import json\n",
    "import texthero as hero\n",
    "from texthero import preprocessing"
   ]
  },
  {
   "cell_type": "code",
   "execution_count": 2,
   "id": "8fabe779",
   "metadata": {},
   "outputs": [],
   "source": [
    "#concat files\n",
    "path = r'/Users/zujiewu/Desktop/Zujie’s MacBook Air/ISE350/project/data/'\n",
    "all_files = glob.glob(path + \"/*.csv\")\n",
    "\n",
    "li = []\n",
    "\n",
    "for filename in all_files:\n",
    "    df = pd.read_csv(filename, index_col=None, header=0)\n",
    "    li.append(df)\n",
    "\n",
    "frame = pd.concat(li, axis=0, ignore_index=True)"
   ]
  },
  {
   "cell_type": "code",
   "execution_count": 3,
   "id": "51eb0a1c",
   "metadata": {},
   "outputs": [],
   "source": [
    "df1 = frame.iloc[:,4:]"
   ]
  },
  {
   "cell_type": "code",
   "execution_count": 4,
   "id": "2cd37ad3",
   "metadata": {},
   "outputs": [],
   "source": [
    "df1 = df1.drop_duplicates()\n",
    "df1.reset_index(drop=True, inplace=True)"
   ]
  },
  {
   "cell_type": "code",
   "execution_count": 5,
   "id": "7dd7cb01",
   "metadata": {},
   "outputs": [
    {
     "data": {
      "text/html": [
       "<div>\n",
       "<style scoped>\n",
       "    .dataframe tbody tr th:only-of-type {\n",
       "        vertical-align: middle;\n",
       "    }\n",
       "\n",
       "    .dataframe tbody tr th {\n",
       "        vertical-align: top;\n",
       "    }\n",
       "\n",
       "    .dataframe thead th {\n",
       "        text-align: right;\n",
       "    }\n",
       "</style>\n",
       "<table border=\"1\" class=\"dataframe\">\n",
       "  <thead>\n",
       "    <tr style=\"text-align: right;\">\n",
       "      <th></th>\n",
       "      <th>text</th>\n",
       "      <th>hashtags</th>\n",
       "      <th>tweet</th>\n",
       "    </tr>\n",
       "  </thead>\n",
       "  <tbody>\n",
       "    <tr>\n",
       "      <th>0</th>\n",
       "      <td>@dorcolsamodorco @vaskrsla people like never g...</td>\n",
       "      <td>['greenpass', 'freedom']</td>\n",
       "      <td>NaN</td>\n",
       "    </tr>\n",
       "    <tr>\n",
       "      <th>1</th>\n",
       "      <td>I'm glad to have my principessa and my wife ba...</td>\n",
       "      <td>['Italia', 'fascists', 'NoVax', 'Greenpass', '...</td>\n",
       "      <td>NaN</td>\n",
       "    </tr>\n",
       "    <tr>\n",
       "      <th>2</th>\n",
       "      <td>@Azarias_Ananias We had 50 dead people yesterd...</td>\n",
       "      <td>['Greenpass']</td>\n",
       "      <td>NaN</td>\n",
       "    </tr>\n",
       "    <tr>\n",
       "      <th>3</th>\n",
       "      <td>New infections, Oct. 27 in 🇩🇪: 26.099.\\nNI in ...</td>\n",
       "      <td>['Greenpass', 'Germany', 'Italy']</td>\n",
       "      <td>NaN</td>\n",
       "    </tr>\n",
       "    <tr>\n",
       "      <th>4</th>\n",
       "      <td>We won’t forget!\\n\\n #TriesteResiste \\n\\n#NoGr...</td>\n",
       "      <td>['TriesteResiste', 'NoGreenPassObligatorio', '...</td>\n",
       "      <td>NaN</td>\n",
       "    </tr>\n",
       "    <tr>\n",
       "      <th>...</th>\n",
       "      <td>...</td>\n",
       "      <td>...</td>\n",
       "      <td>...</td>\n",
       "    </tr>\n",
       "    <tr>\n",
       "      <th>21483</th>\n",
       "      <td>Gear up. #VaccinePassport #Canada #Ottawa #CBC...</td>\n",
       "      <td>['VaccinePassport', 'Canada', 'Ottawa', 'CBC',...</td>\n",
       "      <td>NaN</td>\n",
       "    </tr>\n",
       "    <tr>\n",
       "      <th>21484</th>\n",
       "      <td>@HHSGov \\n😂🤪🤣 I adore how you don’t let anyone...</td>\n",
       "      <td>['Covid', 'coronavirus', 'Corona', 'coronaviru...</td>\n",
       "      <td>NaN</td>\n",
       "    </tr>\n",
       "    <tr>\n",
       "      <th>21485</th>\n",
       "      <td>Dear @JoeBiden \\nHere is what I think of your ...</td>\n",
       "      <td>['America', 'timcast', 'VaccinePassport', 'Vac...</td>\n",
       "      <td>NaN</td>\n",
       "    </tr>\n",
       "    <tr>\n",
       "      <th>21486</th>\n",
       "      <td>I'm a bit concerned actually about the #Queen ...</td>\n",
       "      <td>['Queen', 'GlasgowCop26', 'VaccinePassport', '...</td>\n",
       "      <td>NaN</td>\n",
       "    </tr>\n",
       "    <tr>\n",
       "      <th>21487</th>\n",
       "      <td>Dr Fleming on #Covid cause and solution. \\n\\n#...</td>\n",
       "      <td>['Covid', 'COVID19', 'Covid1984', 'COVIDIOTS',...</td>\n",
       "      <td>NaN</td>\n",
       "    </tr>\n",
       "  </tbody>\n",
       "</table>\n",
       "<p>21488 rows × 3 columns</p>\n",
       "</div>"
      ],
      "text/plain": [
       "                                                    text  \\\n",
       "0      @dorcolsamodorco @vaskrsla people like never g...   \n",
       "1      I'm glad to have my principessa and my wife ba...   \n",
       "2      @Azarias_Ananias We had 50 dead people yesterd...   \n",
       "3      New infections, Oct. 27 in 🇩🇪: 26.099.\\nNI in ...   \n",
       "4      We won’t forget!\\n\\n #TriesteResiste \\n\\n#NoGr...   \n",
       "...                                                  ...   \n",
       "21483  Gear up. #VaccinePassport #Canada #Ottawa #CBC...   \n",
       "21484  @HHSGov \\n😂🤪🤣 I adore how you don’t let anyone...   \n",
       "21485  Dear @JoeBiden \\nHere is what I think of your ...   \n",
       "21486  I'm a bit concerned actually about the #Queen ...   \n",
       "21487  Dr Fleming on #Covid cause and solution. \\n\\n#...   \n",
       "\n",
       "                                                hashtags tweet  \n",
       "0                               ['greenpass', 'freedom']   NaN  \n",
       "1      ['Italia', 'fascists', 'NoVax', 'Greenpass', '...   NaN  \n",
       "2                                          ['Greenpass']   NaN  \n",
       "3                      ['Greenpass', 'Germany', 'Italy']   NaN  \n",
       "4      ['TriesteResiste', 'NoGreenPassObligatorio', '...   NaN  \n",
       "...                                                  ...   ...  \n",
       "21483  ['VaccinePassport', 'Canada', 'Ottawa', 'CBC',...   NaN  \n",
       "21484  ['Covid', 'coronavirus', 'Corona', 'coronaviru...   NaN  \n",
       "21485  ['America', 'timcast', 'VaccinePassport', 'Vac...   NaN  \n",
       "21486  ['Queen', 'GlasgowCop26', 'VaccinePassport', '...   NaN  \n",
       "21487  ['Covid', 'COVID19', 'Covid1984', 'COVIDIOTS',...   NaN  \n",
       "\n",
       "[21488 rows x 3 columns]"
      ]
     },
     "execution_count": 5,
     "metadata": {},
     "output_type": "execute_result"
    }
   ],
   "source": [
    "df1"
   ]
  },
  {
   "cell_type": "code",
   "execution_count": 28,
   "id": "1227c459",
   "metadata": {},
   "outputs": [
    {
     "data": {
      "text/plain": [
       "0                                 ['greenpass', 'freedom']\n",
       "1        ['Italia', 'fascists', 'NoVax', 'Greenpass', '...\n",
       "2                                            ['Greenpass']\n",
       "3                        ['Greenpass', 'Germany', 'Italy']\n",
       "4        ['TriesteResiste', 'NoGreenPassObligatorio', '...\n",
       "                               ...                        \n",
       "21483    ['VaccinePassport', 'Canada', 'Ottawa', 'CBC',...\n",
       "21484    ['Covid', 'coronavirus', 'Corona', 'coronaviru...\n",
       "21485    ['America', 'timcast', 'VaccinePassport', 'Vac...\n",
       "21486    ['Queen', 'GlasgowCop26', 'VaccinePassport', '...\n",
       "21487    ['Covid', 'COVID19', 'Covid1984', 'COVIDIOTS',...\n",
       "Name: hashtags, Length: 21488, dtype: object"
      ]
     },
     "execution_count": 28,
     "metadata": {},
     "output_type": "execute_result"
    }
   ],
   "source": [
    "df1.hashtags"
   ]
  },
  {
   "cell_type": "code",
   "execution_count": 25,
   "id": "c5cfe049",
   "metadata": {},
   "outputs": [
    {
     "data": {
      "text/plain": [
       "'wewee'"
      ]
     },
     "execution_count": 25,
     "metadata": {},
     "output_type": "execute_result"
    }
   ],
   "source": [
    "a= ['greenpass', 'freedom']\n"
   ]
  },
  {
   "cell_type": "code",
   "execution_count": 7,
   "id": "6ed2c644",
   "metadata": {},
   "outputs": [],
   "source": [
    "df1.to_csv('tagged.csv',index = False)"
   ]
  },
  {
   "cell_type": "code",
   "execution_count": 34,
   "id": "f5261ee0",
   "metadata": {},
   "outputs": [],
   "source": [
    "df1 = pd.read_csv('/Users/zujiewu/Desktop/Zujie’s MacBook Air/ISE350/project/data/raw_data_with_hashtags.csv')"
   ]
  },
  {
   "cell_type": "code",
   "execution_count": 35,
   "id": "70376d29",
   "metadata": {},
   "outputs": [
    {
     "data": {
      "text/html": [
       "<div>\n",
       "<style scoped>\n",
       "    .dataframe tbody tr th:only-of-type {\n",
       "        vertical-align: middle;\n",
       "    }\n",
       "\n",
       "    .dataframe tbody tr th {\n",
       "        vertical-align: top;\n",
       "    }\n",
       "\n",
       "    .dataframe thead th {\n",
       "        text-align: right;\n",
       "    }\n",
       "</style>\n",
       "<table border=\"1\" class=\"dataframe\">\n",
       "  <thead>\n",
       "    <tr style=\"text-align: right;\">\n",
       "      <th></th>\n",
       "      <th>Unnamed: 0</th>\n",
       "      <th>tweet</th>\n",
       "      <th>hashtags</th>\n",
       "    </tr>\n",
       "  </thead>\n",
       "  <tbody>\n",
       "    <tr>\n",
       "      <th>0</th>\n",
       "      <td>0</td>\n",
       "      <td>before the #COVID19 \"era\"... A \"normal\" #influ...</td>\n",
       "      <td>['covid19', 'influenza', 'greenpass', 'supergr...</td>\n",
       "    </tr>\n",
       "    <tr>\n",
       "      <th>1</th>\n",
       "      <td>1</td>\n",
       "      <td>BRUSSELS march against #greenpass #NoVaccinePa...</td>\n",
       "      <td>['greenpass', 'novaccinepassports', 'novaccine...</td>\n",
       "    </tr>\n",
       "    <tr>\n",
       "      <th>2</th>\n",
       "      <td>2</td>\n",
       "      <td>Italy from tomorrow is going to create even mo...</td>\n",
       "      <td>['apartheid', 'greenpass', 'nazicovidism']</td>\n",
       "    </tr>\n",
       "    <tr>\n",
       "      <th>3</th>\n",
       "      <td>3</td>\n",
       "      <td>History is back #fjb #papersplease #greenpass ...</td>\n",
       "      <td>['fjb', 'papersplease', 'greenpass']</td>\n",
       "    </tr>\n",
       "    <tr>\n",
       "      <th>4</th>\n",
       "      <td>4</td>\n",
       "      <td>At least once a day I think about the myriad o...</td>\n",
       "      <td>['christians', 'greenpass']</td>\n",
       "    </tr>\n",
       "    <tr>\n",
       "      <th>...</th>\n",
       "      <td>...</td>\n",
       "      <td>...</td>\n",
       "      <td>...</td>\n",
       "    </tr>\n",
       "    <tr>\n",
       "      <th>15862</th>\n",
       "      <td>6976</td>\n",
       "      <td>Gear up. #VaccinePassport #Canada #Ottawa #CBC...</td>\n",
       "      <td>['VaccinePassport', 'Canada', 'Ottawa', 'CBC',...</td>\n",
       "    </tr>\n",
       "    <tr>\n",
       "      <th>15863</th>\n",
       "      <td>6977</td>\n",
       "      <td>@HHSGov \\n😂🤪🤣 I adore how you don’t let anyone...</td>\n",
       "      <td>['Covid', 'coronavirus', 'Corona', 'coronaviru...</td>\n",
       "    </tr>\n",
       "    <tr>\n",
       "      <th>15864</th>\n",
       "      <td>6978</td>\n",
       "      <td>Dear @JoeBiden \\nHere is what I think of your ...</td>\n",
       "      <td>['America', 'timcast', 'VaccinePassport', 'Vac...</td>\n",
       "    </tr>\n",
       "    <tr>\n",
       "      <th>15865</th>\n",
       "      <td>6979</td>\n",
       "      <td>I'm a bit concerned actually about the #Queen ...</td>\n",
       "      <td>['Queen', 'GlasgowCop26', 'VaccinePassport', '...</td>\n",
       "    </tr>\n",
       "    <tr>\n",
       "      <th>15866</th>\n",
       "      <td>6980</td>\n",
       "      <td>Dr Fleming on #Covid cause and solution. \\n\\n#...</td>\n",
       "      <td>['Covid', 'COVID19', 'Covid1984', 'COVIDIOTS',...</td>\n",
       "    </tr>\n",
       "  </tbody>\n",
       "</table>\n",
       "<p>15867 rows × 3 columns</p>\n",
       "</div>"
      ],
      "text/plain": [
       "       Unnamed: 0                                              tweet  \\\n",
       "0               0  before the #COVID19 \"era\"... A \"normal\" #influ...   \n",
       "1               1  BRUSSELS march against #greenpass #NoVaccinePa...   \n",
       "2               2  Italy from tomorrow is going to create even mo...   \n",
       "3               3  History is back #fjb #papersplease #greenpass ...   \n",
       "4               4  At least once a day I think about the myriad o...   \n",
       "...           ...                                                ...   \n",
       "15862        6976  Gear up. #VaccinePassport #Canada #Ottawa #CBC...   \n",
       "15863        6977  @HHSGov \\n😂🤪🤣 I adore how you don’t let anyone...   \n",
       "15864        6978  Dear @JoeBiden \\nHere is what I think of your ...   \n",
       "15865        6979  I'm a bit concerned actually about the #Queen ...   \n",
       "15866        6980  Dr Fleming on #Covid cause and solution. \\n\\n#...   \n",
       "\n",
       "                                                hashtags  \n",
       "0      ['covid19', 'influenza', 'greenpass', 'supergr...  \n",
       "1      ['greenpass', 'novaccinepassports', 'novaccine...  \n",
       "2             ['apartheid', 'greenpass', 'nazicovidism']  \n",
       "3                   ['fjb', 'papersplease', 'greenpass']  \n",
       "4                            ['christians', 'greenpass']  \n",
       "...                                                  ...  \n",
       "15862  ['VaccinePassport', 'Canada', 'Ottawa', 'CBC',...  \n",
       "15863  ['Covid', 'coronavirus', 'Corona', 'coronaviru...  \n",
       "15864  ['America', 'timcast', 'VaccinePassport', 'Vac...  \n",
       "15865  ['Queen', 'GlasgowCop26', 'VaccinePassport', '...  \n",
       "15866  ['Covid', 'COVID19', 'Covid1984', 'COVIDIOTS',...  \n",
       "\n",
       "[15867 rows x 3 columns]"
      ]
     },
     "execution_count": 35,
     "metadata": {},
     "output_type": "execute_result"
    }
   ],
   "source": [
    "df1"
   ]
  },
  {
   "cell_type": "code",
   "execution_count": 36,
   "id": "d9ddd106",
   "metadata": {},
   "outputs": [],
   "source": [
    "l = []\n",
    "s = []"
   ]
  },
  {
   "cell_type": "code",
   "execution_count": 39,
   "id": "ad0ee0c1",
   "metadata": {},
   "outputs": [
    {
     "ename": "ValueError",
     "evalue": "malformed node or string: <_ast.Name object at 0x7fc2508ed220>",
     "output_type": "error",
     "traceback": [
      "\u001b[0;31m---------------------------------------------------------------------------\u001b[0m",
      "\u001b[0;31mValueError\u001b[0m                                Traceback (most recent call last)",
      "\u001b[0;32m<ipython-input-39-be0c4cd27896>\u001b[0m in \u001b[0;36m<module>\u001b[0;34m\u001b[0m\n\u001b[1;32m      1\u001b[0m \u001b[0;32mfor\u001b[0m \u001b[0mindex\u001b[0m\u001b[0;34m,\u001b[0m \u001b[0mrow\u001b[0m \u001b[0;32min\u001b[0m \u001b[0mdf1\u001b[0m\u001b[0;34m.\u001b[0m\u001b[0miterrows\u001b[0m\u001b[0;34m(\u001b[0m\u001b[0;34m)\u001b[0m\u001b[0;34m:\u001b[0m\u001b[0;34m\u001b[0m\u001b[0;34m\u001b[0m\u001b[0m\n\u001b[1;32m      2\u001b[0m     \u001b[0mht\u001b[0m \u001b[0;34m=\u001b[0m \u001b[0mrow\u001b[0m\u001b[0;34m[\u001b[0m\u001b[0;34m'hashtags'\u001b[0m\u001b[0;34m]\u001b[0m\u001b[0;34m.\u001b[0m\u001b[0mreplace\u001b[0m\u001b[0;34m(\u001b[0m\u001b[0;34m\"\\'\"\u001b[0m\u001b[0;34m,\u001b[0m \u001b[0;34m\"\\\"\"\u001b[0m\u001b[0;34m)\u001b[0m\u001b[0;34m\u001b[0m\u001b[0;34m\u001b[0m\u001b[0m\n\u001b[0;32m----> 3\u001b[0;31m     \u001b[0ml\u001b[0m\u001b[0;34m.\u001b[0m\u001b[0mappend\u001b[0m\u001b[0;34m(\u001b[0m\u001b[0mast\u001b[0m\u001b[0;34m.\u001b[0m\u001b[0mliteral_eval\u001b[0m\u001b[0;34m(\u001b[0m\u001b[0mht\u001b[0m\u001b[0;34m)\u001b[0m\u001b[0;34m)\u001b[0m\u001b[0;34m\u001b[0m\u001b[0;34m\u001b[0m\u001b[0m\n\u001b[0m\u001b[1;32m      4\u001b[0m     \u001b[0ms\u001b[0m\u001b[0;34m.\u001b[0m\u001b[0mappend\u001b[0m\u001b[0;34m(\u001b[0m\u001b[0mrow\u001b[0m\u001b[0;34m[\u001b[0m\u001b[0;34m'tweet'\u001b[0m\u001b[0;34m]\u001b[0m\u001b[0;34m)\u001b[0m\u001b[0;34m\u001b[0m\u001b[0;34m\u001b[0m\u001b[0m\n",
      "\u001b[0;32m~/opt/anaconda3/lib/python3.8/ast.py\u001b[0m in \u001b[0;36mliteral_eval\u001b[0;34m(node_or_string)\u001b[0m\n\u001b[1;32m     97\u001b[0m                     \u001b[0;32mreturn\u001b[0m \u001b[0mleft\u001b[0m \u001b[0;34m-\u001b[0m \u001b[0mright\u001b[0m\u001b[0;34m\u001b[0m\u001b[0;34m\u001b[0m\u001b[0m\n\u001b[1;32m     98\u001b[0m         \u001b[0;32mreturn\u001b[0m \u001b[0m_convert_signed_num\u001b[0m\u001b[0;34m(\u001b[0m\u001b[0mnode\u001b[0m\u001b[0;34m)\u001b[0m\u001b[0;34m\u001b[0m\u001b[0;34m\u001b[0m\u001b[0m\n\u001b[0;32m---> 99\u001b[0;31m     \u001b[0;32mreturn\u001b[0m \u001b[0m_convert\u001b[0m\u001b[0;34m(\u001b[0m\u001b[0mnode_or_string\u001b[0m\u001b[0;34m)\u001b[0m\u001b[0;34m\u001b[0m\u001b[0;34m\u001b[0m\u001b[0m\n\u001b[0m\u001b[1;32m    100\u001b[0m \u001b[0;34m\u001b[0m\u001b[0m\n\u001b[1;32m    101\u001b[0m \u001b[0;34m\u001b[0m\u001b[0m\n",
      "\u001b[0;32m~/opt/anaconda3/lib/python3.8/ast.py\u001b[0m in \u001b[0;36m_convert\u001b[0;34m(node)\u001b[0m\n\u001b[1;32m     96\u001b[0m                 \u001b[0;32melse\u001b[0m\u001b[0;34m:\u001b[0m\u001b[0;34m\u001b[0m\u001b[0;34m\u001b[0m\u001b[0m\n\u001b[1;32m     97\u001b[0m                     \u001b[0;32mreturn\u001b[0m \u001b[0mleft\u001b[0m \u001b[0;34m-\u001b[0m \u001b[0mright\u001b[0m\u001b[0;34m\u001b[0m\u001b[0;34m\u001b[0m\u001b[0m\n\u001b[0;32m---> 98\u001b[0;31m         \u001b[0;32mreturn\u001b[0m \u001b[0m_convert_signed_num\u001b[0m\u001b[0;34m(\u001b[0m\u001b[0mnode\u001b[0m\u001b[0;34m)\u001b[0m\u001b[0;34m\u001b[0m\u001b[0;34m\u001b[0m\u001b[0m\n\u001b[0m\u001b[1;32m     99\u001b[0m     \u001b[0;32mreturn\u001b[0m \u001b[0m_convert\u001b[0m\u001b[0;34m(\u001b[0m\u001b[0mnode_or_string\u001b[0m\u001b[0;34m)\u001b[0m\u001b[0;34m\u001b[0m\u001b[0;34m\u001b[0m\u001b[0m\n\u001b[1;32m    100\u001b[0m \u001b[0;34m\u001b[0m\u001b[0m\n",
      "\u001b[0;32m~/opt/anaconda3/lib/python3.8/ast.py\u001b[0m in \u001b[0;36m_convert_signed_num\u001b[0;34m(node)\u001b[0m\n\u001b[1;32m     73\u001b[0m             \u001b[0;32melse\u001b[0m\u001b[0;34m:\u001b[0m\u001b[0;34m\u001b[0m\u001b[0;34m\u001b[0m\u001b[0m\n\u001b[1;32m     74\u001b[0m                 \u001b[0;32mreturn\u001b[0m \u001b[0;34m-\u001b[0m \u001b[0moperand\u001b[0m\u001b[0;34m\u001b[0m\u001b[0;34m\u001b[0m\u001b[0m\n\u001b[0;32m---> 75\u001b[0;31m         \u001b[0;32mreturn\u001b[0m \u001b[0m_convert_num\u001b[0m\u001b[0;34m(\u001b[0m\u001b[0mnode\u001b[0m\u001b[0;34m)\u001b[0m\u001b[0;34m\u001b[0m\u001b[0;34m\u001b[0m\u001b[0m\n\u001b[0m\u001b[1;32m     76\u001b[0m     \u001b[0;32mdef\u001b[0m \u001b[0m_convert\u001b[0m\u001b[0;34m(\u001b[0m\u001b[0mnode\u001b[0m\u001b[0;34m)\u001b[0m\u001b[0;34m:\u001b[0m\u001b[0;34m\u001b[0m\u001b[0;34m\u001b[0m\u001b[0m\n\u001b[1;32m     77\u001b[0m         \u001b[0;32mif\u001b[0m \u001b[0misinstance\u001b[0m\u001b[0;34m(\u001b[0m\u001b[0mnode\u001b[0m\u001b[0;34m,\u001b[0m \u001b[0mConstant\u001b[0m\u001b[0;34m)\u001b[0m\u001b[0;34m:\u001b[0m\u001b[0;34m\u001b[0m\u001b[0;34m\u001b[0m\u001b[0m\n",
      "\u001b[0;32m~/opt/anaconda3/lib/python3.8/ast.py\u001b[0m in \u001b[0;36m_convert_num\u001b[0;34m(node)\u001b[0m\n\u001b[1;32m     64\u001b[0m     \u001b[0;32mdef\u001b[0m \u001b[0m_convert_num\u001b[0m\u001b[0;34m(\u001b[0m\u001b[0mnode\u001b[0m\u001b[0;34m)\u001b[0m\u001b[0;34m:\u001b[0m\u001b[0;34m\u001b[0m\u001b[0;34m\u001b[0m\u001b[0m\n\u001b[1;32m     65\u001b[0m         \u001b[0;32mif\u001b[0m \u001b[0;32mnot\u001b[0m \u001b[0misinstance\u001b[0m\u001b[0;34m(\u001b[0m\u001b[0mnode\u001b[0m\u001b[0;34m,\u001b[0m \u001b[0mConstant\u001b[0m\u001b[0;34m)\u001b[0m \u001b[0;32mor\u001b[0m \u001b[0mtype\u001b[0m\u001b[0;34m(\u001b[0m\u001b[0mnode\u001b[0m\u001b[0;34m.\u001b[0m\u001b[0mvalue\u001b[0m\u001b[0;34m)\u001b[0m \u001b[0;32mnot\u001b[0m \u001b[0;32min\u001b[0m \u001b[0;34m(\u001b[0m\u001b[0mint\u001b[0m\u001b[0;34m,\u001b[0m \u001b[0mfloat\u001b[0m\u001b[0;34m,\u001b[0m \u001b[0mcomplex\u001b[0m\u001b[0;34m)\u001b[0m\u001b[0;34m:\u001b[0m\u001b[0;34m\u001b[0m\u001b[0;34m\u001b[0m\u001b[0m\n\u001b[0;32m---> 66\u001b[0;31m             \u001b[0m_raise_malformed_node\u001b[0m\u001b[0;34m(\u001b[0m\u001b[0mnode\u001b[0m\u001b[0;34m)\u001b[0m\u001b[0;34m\u001b[0m\u001b[0;34m\u001b[0m\u001b[0m\n\u001b[0m\u001b[1;32m     67\u001b[0m         \u001b[0;32mreturn\u001b[0m \u001b[0mnode\u001b[0m\u001b[0;34m.\u001b[0m\u001b[0mvalue\u001b[0m\u001b[0;34m\u001b[0m\u001b[0;34m\u001b[0m\u001b[0m\n\u001b[1;32m     68\u001b[0m     \u001b[0;32mdef\u001b[0m \u001b[0m_convert_signed_num\u001b[0m\u001b[0;34m(\u001b[0m\u001b[0mnode\u001b[0m\u001b[0;34m)\u001b[0m\u001b[0;34m:\u001b[0m\u001b[0;34m\u001b[0m\u001b[0;34m\u001b[0m\u001b[0m\n",
      "\u001b[0;32m~/opt/anaconda3/lib/python3.8/ast.py\u001b[0m in \u001b[0;36m_raise_malformed_node\u001b[0;34m(node)\u001b[0m\n\u001b[1;32m     61\u001b[0m         \u001b[0mnode_or_string\u001b[0m \u001b[0;34m=\u001b[0m \u001b[0mnode_or_string\u001b[0m\u001b[0;34m.\u001b[0m\u001b[0mbody\u001b[0m\u001b[0;34m\u001b[0m\u001b[0;34m\u001b[0m\u001b[0m\n\u001b[1;32m     62\u001b[0m     \u001b[0;32mdef\u001b[0m \u001b[0m_raise_malformed_node\u001b[0m\u001b[0;34m(\u001b[0m\u001b[0mnode\u001b[0m\u001b[0;34m)\u001b[0m\u001b[0;34m:\u001b[0m\u001b[0;34m\u001b[0m\u001b[0;34m\u001b[0m\u001b[0m\n\u001b[0;32m---> 63\u001b[0;31m         \u001b[0;32mraise\u001b[0m \u001b[0mValueError\u001b[0m\u001b[0;34m(\u001b[0m\u001b[0;34mf'malformed node or string: {node!r}'\u001b[0m\u001b[0;34m)\u001b[0m\u001b[0;34m\u001b[0m\u001b[0;34m\u001b[0m\u001b[0m\n\u001b[0m\u001b[1;32m     64\u001b[0m     \u001b[0;32mdef\u001b[0m \u001b[0m_convert_num\u001b[0m\u001b[0;34m(\u001b[0m\u001b[0mnode\u001b[0m\u001b[0;34m)\u001b[0m\u001b[0;34m:\u001b[0m\u001b[0;34m\u001b[0m\u001b[0;34m\u001b[0m\u001b[0m\n\u001b[1;32m     65\u001b[0m         \u001b[0;32mif\u001b[0m \u001b[0;32mnot\u001b[0m \u001b[0misinstance\u001b[0m\u001b[0;34m(\u001b[0m\u001b[0mnode\u001b[0m\u001b[0;34m,\u001b[0m \u001b[0mConstant\u001b[0m\u001b[0;34m)\u001b[0m \u001b[0;32mor\u001b[0m \u001b[0mtype\u001b[0m\u001b[0;34m(\u001b[0m\u001b[0mnode\u001b[0m\u001b[0;34m.\u001b[0m\u001b[0mvalue\u001b[0m\u001b[0;34m)\u001b[0m \u001b[0;32mnot\u001b[0m \u001b[0;32min\u001b[0m \u001b[0;34m(\u001b[0m\u001b[0mint\u001b[0m\u001b[0;34m,\u001b[0m \u001b[0mfloat\u001b[0m\u001b[0;34m,\u001b[0m \u001b[0mcomplex\u001b[0m\u001b[0;34m)\u001b[0m\u001b[0;34m:\u001b[0m\u001b[0;34m\u001b[0m\u001b[0;34m\u001b[0m\u001b[0m\n",
      "\u001b[0;31mValueError\u001b[0m: malformed node or string: <_ast.Name object at 0x7fc2508ed220>"
     ]
    }
   ],
   "source": [
    "for index, row in df1.iterrows():\n",
    "    ht = row['hashtags'].replace(\"\\'\", \"\\\"\")\n",
    "    l.append(ast.literal_eval(ht))\n",
    "    s.append(row['tweet'])"
   ]
  },
  {
   "cell_type": "code",
   "execution_count": 8,
   "id": "98d9f01d",
   "metadata": {},
   "outputs": [],
   "source": [
    "hashtags = []\n",
    "text = []"
   ]
  },
  {
   "cell_type": "code",
   "execution_count": 9,
   "id": "df107a79",
   "metadata": {},
   "outputs": [],
   "source": [
    "for i in range(len(l)):\n",
    "    for j in l[i]:\n",
    "        text.append(s[i])\n",
    "        hashtags.append(j.lower())"
   ]
  },
  {
   "cell_type": "code",
   "execution_count": 10,
   "id": "47c750c1",
   "metadata": {},
   "outputs": [
    {
     "data": {
      "text/plain": [
       "19360"
      ]
     },
     "execution_count": 10,
     "metadata": {},
     "output_type": "execute_result"
    }
   ],
   "source": [
    "len(text)"
   ]
  },
  {
   "cell_type": "code",
   "execution_count": 12,
   "id": "c3fcbf4d",
   "metadata": {},
   "outputs": [],
   "source": [
    "df_new = pd.DataFrame()\n",
    "df_new['hashtags'] = hashtags\n",
    "df_new['tweet'] = text"
   ]
  },
  {
   "cell_type": "code",
   "execution_count": 13,
   "id": "508080e6",
   "metadata": {},
   "outputs": [],
   "source": [
    "s=df_new.hashtags.value_counts().gt(20)\n",
    "df_new = df_new.loc[df_new.hashtags.isin(s[s].index)]"
   ]
  },
  {
   "cell_type": "code",
   "execution_count": 14,
   "id": "469616ff",
   "metadata": {},
   "outputs": [
    {
     "data": {
      "text/plain": [
       "vaccinemandate     2079\n",
       "vaccinepassport    1242\n",
       "covid19             784\n",
       "greenpass           523\n",
       "vaccine             375\n",
       "                   ... \n",
       "mandates             21\n",
       "covid19uk            21\n",
       "newyork              21\n",
       "topoli               21\n",
       "plandemic            21\n",
       "Name: hashtags, Length: 113, dtype: int64"
      ]
     },
     "execution_count": 14,
     "metadata": {},
     "output_type": "execute_result"
    }
   ],
   "source": [
    "df_new['hashtags'].value_counts()"
   ]
  },
  {
   "cell_type": "code",
   "execution_count": 18,
   "id": "52363f83",
   "metadata": {},
   "outputs": [],
   "source": [
    "#data cleaning\n",
    "custom_pipeline = [preprocessing.fillna\n",
    "                   , preprocessing.lowercase\n",
    "                   , preprocessing.remove_digits\n",
    "                   , preprocessing.remove_punctuation\n",
    "                   , preprocessing.remove_diacritics\n",
    "                   , preprocessing.remove_stopwords\n",
    "                   , preprocessing.remove_urls\n",
    "                   , preprocessing.remove_whitespace\n",
    "                   , preprocessing.stem]\n",
    "\n",
    "df_cleaned = pd.DataFrame()\n",
    "df_cleaned['text'] = hero.clean(df_new['tweet'],pipeline = custom_pipeline)\n",
    "df_cleaned['hashtags'] = df_new['hashtags']"
   ]
  },
  {
   "cell_type": "code",
   "execution_count": 20,
   "id": "72e4c4b8",
   "metadata": {},
   "outputs": [],
   "source": [
    "df_cleaned.to_csv('cleaned_data',index = False)"
   ]
  },
  {
   "cell_type": "code",
   "execution_count": null,
   "id": "a4f78f1f",
   "metadata": {},
   "outputs": [],
   "source": []
  }
 ],
 "metadata": {
  "kernelspec": {
   "display_name": "Python 3",
   "language": "python",
   "name": "python3"
  },
  "language_info": {
   "codemirror_mode": {
    "name": "ipython",
    "version": 3
   },
   "file_extension": ".py",
   "mimetype": "text/x-python",
   "name": "python",
   "nbconvert_exporter": "python",
   "pygments_lexer": "ipython3",
   "version": "3.8.8"
  }
 },
 "nbformat": 4,
 "nbformat_minor": 5
}
