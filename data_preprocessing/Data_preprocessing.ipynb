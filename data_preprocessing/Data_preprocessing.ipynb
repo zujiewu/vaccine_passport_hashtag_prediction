{
 "cells": [
  {
   "cell_type": "code",
   "execution_count": 89,
   "id": "860145db",
   "metadata": {},
   "outputs": [],
   "source": [
    "import pandas as pd\n",
    "import nltk\n",
    "from nltk.stem.porter import PorterStemmer\n",
    "import numpy as np\n",
    "import string\n",
    "string.punctuation\n",
    "import re\n",
    "import ast\n",
    "from ast import literal_eval"
   ]
  },
  {
   "cell_type": "code",
   "execution_count": 193,
   "id": "ca85a6f7",
   "metadata": {},
   "outputs": [],
   "source": [
    "data = pd.read_csv('/Users/zujiewu/Desktop/Zujie’s MacBook Air/ISE350/project/data/raw_data_with_hashtags.csv')"
   ]
  },
  {
   "cell_type": "code",
   "execution_count": 194,
   "id": "cfdadace",
   "metadata": {},
   "outputs": [
    {
     "data": {
      "text/html": [
       "<div>\n",
       "<style scoped>\n",
       "    .dataframe tbody tr th:only-of-type {\n",
       "        vertical-align: middle;\n",
       "    }\n",
       "\n",
       "    .dataframe tbody tr th {\n",
       "        vertical-align: top;\n",
       "    }\n",
       "\n",
       "    .dataframe thead th {\n",
       "        text-align: right;\n",
       "    }\n",
       "</style>\n",
       "<table border=\"1\" class=\"dataframe\">\n",
       "  <thead>\n",
       "    <tr style=\"text-align: right;\">\n",
       "      <th></th>\n",
       "      <th>Unnamed: 0</th>\n",
       "      <th>tweet</th>\n",
       "      <th>hashtags</th>\n",
       "    </tr>\n",
       "  </thead>\n",
       "  <tbody>\n",
       "    <tr>\n",
       "      <th>0</th>\n",
       "      <td>0</td>\n",
       "      <td>['covid19', 'era', 'normal', 'influenza', 'sea...</td>\n",
       "      <td>['covid19', 'influenza', 'greenpass', 'supergr...</td>\n",
       "    </tr>\n",
       "    <tr>\n",
       "      <th>1</th>\n",
       "      <td>1</td>\n",
       "      <td>['brussel', 'march', 'greenpass', 'novaccinepa...</td>\n",
       "      <td>['greenpass', 'novaccinepassports', 'novaccine...</td>\n",
       "    </tr>\n",
       "    <tr>\n",
       "      <th>2</th>\n",
       "      <td>2</td>\n",
       "      <td>['itali', 'tomorrow', 'go', 'creat', 'even', '...</td>\n",
       "      <td>['apartheid', 'greenpass', 'nazicovidism']</td>\n",
       "    </tr>\n",
       "    <tr>\n",
       "      <th>3</th>\n",
       "      <td>3</td>\n",
       "      <td>['histori', 'back', 'fjb', 'paperspleas', 'gre...</td>\n",
       "      <td>['fjb', 'papersplease', 'greenpass']</td>\n",
       "    </tr>\n",
       "    <tr>\n",
       "      <th>4</th>\n",
       "      <td>4</td>\n",
       "      <td>['least', 'day', 'think', 'myriad', 'italian',...</td>\n",
       "      <td>['christians', 'greenpass']</td>\n",
       "    </tr>\n",
       "    <tr>\n",
       "      <th>...</th>\n",
       "      <td>...</td>\n",
       "      <td>...</td>\n",
       "      <td>...</td>\n",
       "    </tr>\n",
       "    <tr>\n",
       "      <th>15861</th>\n",
       "      <td>15862</td>\n",
       "      <td>['gear', 'vaccinepassport', 'canada', 'ottawa'...</td>\n",
       "      <td>['VaccinePassport', 'Canada', 'Ottawa', 'CBC',...</td>\n",
       "    </tr>\n",
       "    <tr>\n",
       "      <th>15862</th>\n",
       "      <td>15863</td>\n",
       "      <td>['hhsgov', '😂🤪🤣', 'ador', 'don’t', 'let', 'any...</td>\n",
       "      <td>['Covid', 'coronavirus', 'Corona', 'coronaviru...</td>\n",
       "    </tr>\n",
       "    <tr>\n",
       "      <th>15863</th>\n",
       "      <td>15864</td>\n",
       "      <td>['dear', 'joebiden', 'think', 'vaccin', 'manda...</td>\n",
       "      <td>['America', 'timcast', 'VaccinePassport', 'Vac...</td>\n",
       "    </tr>\n",
       "    <tr>\n",
       "      <th>15864</th>\n",
       "      <td>15865</td>\n",
       "      <td>['im', 'bit', 'concern', 'actual', 'queen', 'c...</td>\n",
       "      <td>['Queen', 'GlasgowCop26', 'VaccinePassport', '...</td>\n",
       "    </tr>\n",
       "    <tr>\n",
       "      <th>15865</th>\n",
       "      <td>15866</td>\n",
       "      <td>['dr', 'fleme', 'covid', 'caus', 'solut', 'cov...</td>\n",
       "      <td>['Covid', 'COVID19', 'Covid1984', 'COVIDIOTS',...</td>\n",
       "    </tr>\n",
       "  </tbody>\n",
       "</table>\n",
       "<p>15866 rows × 3 columns</p>\n",
       "</div>"
      ],
      "text/plain": [
       "       Unnamed: 0                                              tweet  \\\n",
       "0               0  ['covid19', 'era', 'normal', 'influenza', 'sea...   \n",
       "1               1  ['brussel', 'march', 'greenpass', 'novaccinepa...   \n",
       "2               2  ['itali', 'tomorrow', 'go', 'creat', 'even', '...   \n",
       "3               3  ['histori', 'back', 'fjb', 'paperspleas', 'gre...   \n",
       "4               4  ['least', 'day', 'think', 'myriad', 'italian',...   \n",
       "...           ...                                                ...   \n",
       "15861       15862  ['gear', 'vaccinepassport', 'canada', 'ottawa'...   \n",
       "15862       15863  ['hhsgov', '😂🤪🤣', 'ador', 'don’t', 'let', 'any...   \n",
       "15863       15864  ['dear', 'joebiden', 'think', 'vaccin', 'manda...   \n",
       "15864       15865  ['im', 'bit', 'concern', 'actual', 'queen', 'c...   \n",
       "15865       15866  ['dr', 'fleme', 'covid', 'caus', 'solut', 'cov...   \n",
       "\n",
       "                                                hashtags  \n",
       "0      ['covid19', 'influenza', 'greenpass', 'supergr...  \n",
       "1      ['greenpass', 'novaccinepassports', 'novaccine...  \n",
       "2             ['apartheid', 'greenpass', 'nazicovidism']  \n",
       "3                   ['fjb', 'papersplease', 'greenpass']  \n",
       "4                            ['christians', 'greenpass']  \n",
       "...                                                  ...  \n",
       "15861  ['VaccinePassport', 'Canada', 'Ottawa', 'CBC',...  \n",
       "15862  ['Covid', 'coronavirus', 'Corona', 'coronaviru...  \n",
       "15863  ['America', 'timcast', 'VaccinePassport', 'Vac...  \n",
       "15864  ['Queen', 'GlasgowCop26', 'VaccinePassport', '...  \n",
       "15865  ['Covid', 'COVID19', 'Covid1984', 'COVIDIOTS',...  \n",
       "\n",
       "[15866 rows x 3 columns]"
      ]
     },
     "execution_count": 194,
     "metadata": {},
     "output_type": "execute_result"
    }
   ],
   "source": [
    "data"
   ]
  },
  {
   "cell_type": "code",
   "execution_count": 195,
   "id": "536c3e6c",
   "metadata": {},
   "outputs": [],
   "source": [
    "#defining the function to remove punctuation and emoji\n",
    "\n",
    "emoji_pattern = re.compile(\"[\"\n",
    "        u\"\\U0001F600-\\U0001F64F\"  # emoticons\n",
    "        u\"\\U0001F300-\\U0001F5FF\"  # symbols & pictographs\n",
    "        u\"\\U0001F680-\\U0001F6FF\"  # transport & map symbols\n",
    "        u\"\\U0001F1E0-\\U0001F1FF\"  # flags (iOS)\n",
    "                           \"]+\", flags=re.UNICODE)\n",
    "def remove_emoji(text):\n",
    "    emojifree = emoji_pattern.sub(r'', text)\n",
    "    return emojifree\n",
    "def remove_punctuation(text):\n",
    "    punctuationfree=\"\".join([i for i in text if i not in string.punctuation])\n",
    "    return punctuationfree\n",
    "#storing the puntuation free text\n",
    "data['clean_msg']= data['tweet'].apply(lambda x:remove_punctuation(x))\n",
    "data['noemoji_msg']= data['clean_msg'].apply(lambda x:remove_punctuation(x))"
   ]
  },
  {
   "cell_type": "code",
   "execution_count": 196,
   "id": "d12fdaf8",
   "metadata": {},
   "outputs": [],
   "source": [
    "#Lowering the text: \n",
    "data['msg_lower']= data['noemoji_msg'].apply(lambda x: x.lower())"
   ]
  },
  {
   "cell_type": "code",
   "execution_count": 197,
   "id": "cf7936e1",
   "metadata": {},
   "outputs": [],
   "source": [
    "#tokenization\n",
    "def tokenization(text):\n",
    "    tokens = re.split(r\"\\s+\",text)\n",
    "    return tokens\n",
    "#applying function to the column\n",
    "data['msg_tokenied']= data['msg_lower'].apply(lambda x: tokenization(x))"
   ]
  },
  {
   "cell_type": "code",
   "execution_count": 198,
   "id": "7e736116",
   "metadata": {},
   "outputs": [],
   "source": [
    "#stopwords removel\n",
    "stopwords = nltk.corpus.stopwords.words('english')\n",
    "def remove_stopwords(text):\n",
    "    output= [i for i in text if i not in stopwords]\n",
    "    return output\n",
    "data['no_stopwords']= data['msg_tokenied'].apply(lambda x:remove_stopwords(x))"
   ]
  },
  {
   "cell_type": "code",
   "execution_count": 199,
   "id": "800784ee",
   "metadata": {},
   "outputs": [],
   "source": [
    "#stemming\n",
    "porter_stemmer = PorterStemmer()\n",
    "def stemming(text):\n",
    "    stem_text = [porter_stemmer.stem(word) for word in text]\n",
    "    return stem_text\n",
    "data['msg_stemmed']=data['no_stopwords'].apply(lambda x: stemming(x))"
   ]
  },
  {
   "cell_type": "code",
   "execution_count": 200,
   "id": "5f903685",
   "metadata": {},
   "outputs": [],
   "source": [
    "#Lemmatization\n",
    "wordnet_lemmatizer = WordNetLemmatizer()\n",
    "def lemmatizer(text):\n",
    "    lemm_text = [wordnet_lemmatizer.lemmatize(word) for word in text]\n",
    "    return lemm_text\n",
    "data['msg_lemmatized']=data['msg_stemmed'].apply(lambda x:lemmatizer(x))"
   ]
  },
  {
   "cell_type": "markdown",
   "id": "4dd802de",
   "metadata": {},
   "source": [
    "explode hashtags"
   ]
  },
  {
   "cell_type": "code",
   "execution_count": 203,
   "id": "12e96bb6",
   "metadata": {},
   "outputs": [],
   "source": [
    "df_cleaned = data[['msg_lemmatized','hashtags']]"
   ]
  },
  {
   "cell_type": "code",
   "execution_count": 204,
   "id": "bbd03319",
   "metadata": {},
   "outputs": [],
   "source": [
    "df_cleaned = df_cleaned.rename(columns={\"msg_lemmatized\": \"tweet\"})"
   ]
  },
  {
   "cell_type": "code",
   "execution_count": 205,
   "id": "30275d3f",
   "metadata": {},
   "outputs": [],
   "source": [
    "l = []\n",
    "s = []\n",
    "for index, row in df1.iterrows():\n",
    "    ht = row['hashtags'].replace(\"\\'\", \"\\\"\")\n",
    "    l.append(ast.literal_eval(ht))\n",
    "    s.append(row['tweet'])"
   ]
  },
  {
   "cell_type": "code",
   "execution_count": 206,
   "id": "d5f969b4",
   "metadata": {},
   "outputs": [],
   "source": [
    "df_new = pd.DataFrame()\n",
    "df_new['hashtags'] = l\n",
    "df_new['tweet'] = s"
   ]
  },
  {
   "cell_type": "code",
   "execution_count": 207,
   "id": "436975bb",
   "metadata": {},
   "outputs": [
    {
     "data": {
      "text/html": [
       "<div>\n",
       "<style scoped>\n",
       "    .dataframe tbody tr th:only-of-type {\n",
       "        vertical-align: middle;\n",
       "    }\n",
       "\n",
       "    .dataframe tbody tr th {\n",
       "        vertical-align: top;\n",
       "    }\n",
       "\n",
       "    .dataframe thead th {\n",
       "        text-align: right;\n",
       "    }\n",
       "</style>\n",
       "<table border=\"1\" class=\"dataframe\">\n",
       "  <thead>\n",
       "    <tr style=\"text-align: right;\">\n",
       "      <th></th>\n",
       "      <th>hashtags</th>\n",
       "      <th>tweet</th>\n",
       "    </tr>\n",
       "  </thead>\n",
       "  <tbody>\n",
       "    <tr>\n",
       "      <th>0</th>\n",
       "      <td>covid19</td>\n",
       "      <td>[covid19, era, normal, influenza, season, lot,...</td>\n",
       "    </tr>\n",
       "    <tr>\n",
       "      <th>0</th>\n",
       "      <td>influenza</td>\n",
       "      <td>[covid19, era, normal, influenza, season, lot,...</td>\n",
       "    </tr>\n",
       "    <tr>\n",
       "      <th>0</th>\n",
       "      <td>greenpass</td>\n",
       "      <td>[covid19, era, normal, influenza, season, lot,...</td>\n",
       "    </tr>\n",
       "    <tr>\n",
       "      <th>0</th>\n",
       "      <td>supergreenpass</td>\n",
       "      <td>[covid19, era, normal, influenza, season, lot,...</td>\n",
       "    </tr>\n",
       "    <tr>\n",
       "      <th>1</th>\n",
       "      <td>greenpass</td>\n",
       "      <td>[brussel, march, greenpass, novaccinepassport,...</td>\n",
       "    </tr>\n",
       "    <tr>\n",
       "      <th>...</th>\n",
       "      <td>...</td>\n",
       "      <td>...</td>\n",
       "    </tr>\n",
       "    <tr>\n",
       "      <th>15865</th>\n",
       "      <td>CDC</td>\n",
       "      <td>[dr, fleme, covid, caus, solut, covid19, covid...</td>\n",
       "    </tr>\n",
       "    <tr>\n",
       "      <th>15865</th>\n",
       "      <td>NaturalImmunity</td>\n",
       "      <td>[dr, fleme, covid, caus, solut, covid19, covid...</td>\n",
       "    </tr>\n",
       "    <tr>\n",
       "      <th>15865</th>\n",
       "      <td>ProtectYourFamily</td>\n",
       "      <td>[dr, fleme, covid, caus, solut, covid19, covid...</td>\n",
       "    </tr>\n",
       "    <tr>\n",
       "      <th>15865</th>\n",
       "      <td>RemdisivirKills</td>\n",
       "      <td>[dr, fleme, covid, caus, solut, covid19, covid...</td>\n",
       "    </tr>\n",
       "    <tr>\n",
       "      <th>15865</th>\n",
       "      <td>CrimesAgainstHumanity</td>\n",
       "      <td>[dr, fleme, covid, caus, solut, covid19, covid...</td>\n",
       "    </tr>\n",
       "  </tbody>\n",
       "</table>\n",
       "<p>60339 rows × 2 columns</p>\n",
       "</div>"
      ],
      "text/plain": [
       "                    hashtags  \\\n",
       "0                    covid19   \n",
       "0                  influenza   \n",
       "0                  greenpass   \n",
       "0             supergreenpass   \n",
       "1                  greenpass   \n",
       "...                      ...   \n",
       "15865                    CDC   \n",
       "15865        NaturalImmunity   \n",
       "15865      ProtectYourFamily   \n",
       "15865        RemdisivirKills   \n",
       "15865  CrimesAgainstHumanity   \n",
       "\n",
       "                                                   tweet  \n",
       "0      [covid19, era, normal, influenza, season, lot,...  \n",
       "0      [covid19, era, normal, influenza, season, lot,...  \n",
       "0      [covid19, era, normal, influenza, season, lot,...  \n",
       "0      [covid19, era, normal, influenza, season, lot,...  \n",
       "1      [brussel, march, greenpass, novaccinepassport,...  \n",
       "...                                                  ...  \n",
       "15865  [dr, fleme, covid, caus, solut, covid19, covid...  \n",
       "15865  [dr, fleme, covid, caus, solut, covid19, covid...  \n",
       "15865  [dr, fleme, covid, caus, solut, covid19, covid...  \n",
       "15865  [dr, fleme, covid, caus, solut, covid19, covid...  \n",
       "15865  [dr, fleme, covid, caus, solut, covid19, covid...  \n",
       "\n",
       "[60339 rows x 2 columns]"
      ]
     },
     "execution_count": 207,
     "metadata": {},
     "output_type": "execute_result"
    }
   ],
   "source": [
    "df_new.explode('hashtags')"
   ]
  },
  {
   "cell_type": "code",
   "execution_count": 208,
   "id": "8f4b2168",
   "metadata": {},
   "outputs": [],
   "source": [
    "df_new.to_csv('/Users/zujiewu/Desktop/Zujie’s MacBook Air/ISE350/project/data/cleaned_data.csv')"
   ]
  }
 ],
 "metadata": {
  "kernelspec": {
   "display_name": "Python 3",
   "language": "python",
   "name": "python3"
  },
  "language_info": {
   "codemirror_mode": {
    "name": "ipython",
    "version": 3
   },
   "file_extension": ".py",
   "mimetype": "text/x-python",
   "name": "python",
   "nbconvert_exporter": "python",
   "pygments_lexer": "ipython3",
   "version": "3.8.8"
  }
 },
 "nbformat": 4,
 "nbformat_minor": 5
}
