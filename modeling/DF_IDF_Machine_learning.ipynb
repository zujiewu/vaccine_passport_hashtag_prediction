{
 "cells": [
  {
   "cell_type": "code",
   "execution_count": 82,
   "id": "3030a679",
   "metadata": {},
   "outputs": [],
   "source": [
    "import numpy as np\n",
    "import pandas as pd\n",
    "import random\n",
    "from sklearn import metrics\n",
    "from sklearn.feature_extraction.text import TfidfVectorizer\n",
    "from sklearn.feature_extraction.text import CountVectorizer\n",
    "from sklearn.metrics import classification_report\n",
    "from sklearn.model_selection import train_test_split\n",
    "from sklearn.feature_extraction.text import TfidfVectorizer\n",
    "from sklearn.naive_bayes import MultinomialNB\n",
    "from sklearn.linear_model import LogisticRegression\n",
    "from sklearn import svm\n",
    "from sklearn.ensemble import RandomForestClassifier\n",
    "import xgboost as xgb\n",
    "import joblib"
   ]
  },
  {
   "cell_type": "code",
   "execution_count": 9,
   "id": "ec8353f0",
   "metadata": {},
   "outputs": [],
   "source": [
    "df = pd.read_csv('/Users/zujiewu/Desktop/Zujie’s MacBook Air/ISE350/project/data/cleaned_data.csv')"
   ]
  },
  {
   "cell_type": "code",
   "execution_count": 14,
   "id": "f997314f",
   "metadata": {},
   "outputs": [],
   "source": [
    "df = df.iloc[:,1:]"
   ]
  },
  {
   "cell_type": "code",
   "execution_count": 15,
   "id": "ba387c3f",
   "metadata": {},
   "outputs": [
    {
     "data": {
      "text/html": [
       "<div>\n",
       "<style scoped>\n",
       "    .dataframe tbody tr th:only-of-type {\n",
       "        vertical-align: middle;\n",
       "    }\n",
       "\n",
       "    .dataframe tbody tr th {\n",
       "        vertical-align: top;\n",
       "    }\n",
       "\n",
       "    .dataframe thead th {\n",
       "        text-align: right;\n",
       "    }\n",
       "</style>\n",
       "<table border=\"1\" class=\"dataframe\">\n",
       "  <thead>\n",
       "    <tr style=\"text-align: right;\">\n",
       "      <th></th>\n",
       "      <th>hashtags</th>\n",
       "      <th>tweet</th>\n",
       "    </tr>\n",
       "  </thead>\n",
       "  <tbody>\n",
       "    <tr>\n",
       "      <th>0</th>\n",
       "      <td>covid19</td>\n",
       "      <td>['covid19', 'era', 'normal', 'influenza', 'sea...</td>\n",
       "    </tr>\n",
       "    <tr>\n",
       "      <th>1</th>\n",
       "      <td>greenpass</td>\n",
       "      <td>['covid19', 'era', 'normal', 'influenza', 'sea...</td>\n",
       "    </tr>\n",
       "    <tr>\n",
       "      <th>2</th>\n",
       "      <td>greenpass</td>\n",
       "      <td>['brussel', 'march', 'greenpass', 'novaccinepa...</td>\n",
       "    </tr>\n",
       "    <tr>\n",
       "      <th>3</th>\n",
       "      <td>novaccinepassports</td>\n",
       "      <td>['brussel', 'march', 'greenpass', 'novaccinepa...</td>\n",
       "    </tr>\n",
       "    <tr>\n",
       "      <th>4</th>\n",
       "      <td>novaccinemandates</td>\n",
       "      <td>['brussel', 'march', 'greenpass', 'novaccinepa...</td>\n",
       "    </tr>\n",
       "    <tr>\n",
       "      <th>...</th>\n",
       "      <td>...</td>\n",
       "      <td>...</td>\n",
       "    </tr>\n",
       "    <tr>\n",
       "      <th>30312</th>\n",
       "      <td>covidiots</td>\n",
       "      <td>['dr', 'fleme', 'covid', 'caus', 'solut', 'cov...</td>\n",
       "    </tr>\n",
       "    <tr>\n",
       "      <th>30313</th>\n",
       "      <td>vaccinesideeffects</td>\n",
       "      <td>['dr', 'fleme', 'covid', 'caus', 'solut', 'cov...</td>\n",
       "    </tr>\n",
       "    <tr>\n",
       "      <th>30314</th>\n",
       "      <td>vaccinepassport</td>\n",
       "      <td>['dr', 'fleme', 'covid', 'caus', 'solut', 'cov...</td>\n",
       "    </tr>\n",
       "    <tr>\n",
       "      <th>30315</th>\n",
       "      <td>vaccinemandate</td>\n",
       "      <td>['dr', 'fleme', 'covid', 'caus', 'solut', 'cov...</td>\n",
       "    </tr>\n",
       "    <tr>\n",
       "      <th>30316</th>\n",
       "      <td>resist</td>\n",
       "      <td>['dr', 'fleme', 'covid', 'caus', 'solut', 'cov...</td>\n",
       "    </tr>\n",
       "  </tbody>\n",
       "</table>\n",
       "<p>30317 rows × 2 columns</p>\n",
       "</div>"
      ],
      "text/plain": [
       "                 hashtags                                              tweet\n",
       "0                 covid19  ['covid19', 'era', 'normal', 'influenza', 'sea...\n",
       "1               greenpass  ['covid19', 'era', 'normal', 'influenza', 'sea...\n",
       "2               greenpass  ['brussel', 'march', 'greenpass', 'novaccinepa...\n",
       "3      novaccinepassports  ['brussel', 'march', 'greenpass', 'novaccinepa...\n",
       "4       novaccinemandates  ['brussel', 'march', 'greenpass', 'novaccinepa...\n",
       "...                   ...                                                ...\n",
       "30312           covidiots  ['dr', 'fleme', 'covid', 'caus', 'solut', 'cov...\n",
       "30313  vaccinesideeffects  ['dr', 'fleme', 'covid', 'caus', 'solut', 'cov...\n",
       "30314     vaccinepassport  ['dr', 'fleme', 'covid', 'caus', 'solut', 'cov...\n",
       "30315      vaccinemandate  ['dr', 'fleme', 'covid', 'caus', 'solut', 'cov...\n",
       "30316              resist  ['dr', 'fleme', 'covid', 'caus', 'solut', 'cov...\n",
       "\n",
       "[30317 rows x 2 columns]"
      ]
     },
     "execution_count": 15,
     "metadata": {},
     "output_type": "execute_result"
    }
   ],
   "source": [
    "df"
   ]
  },
  {
   "cell_type": "code",
   "execution_count": 17,
   "id": "577dfd53",
   "metadata": {},
   "outputs": [],
   "source": [
    "df = df.reset_index(drop = True)"
   ]
  },
  {
   "cell_type": "markdown",
   "id": "440eb7ac",
   "metadata": {},
   "source": [
    "**Baseline model**"
   ]
  },
  {
   "cell_type": "code",
   "execution_count": 20,
   "id": "b6373af6",
   "metadata": {},
   "outputs": [
    {
     "name": "stdout",
     "output_type": "stream",
     "text": [
      "                 precision    recall  f1-score   support\n",
      "\n",
      " vaccinemandate       0.28      0.02      0.03      8262\n",
      "vaccinepassport       0.08      0.01      0.02      2802\n",
      "      greenpass       0.03      0.01      0.02      1052\n",
      "          covid       0.02      0.01      0.02       775\n",
      "\n",
      "      micro avg       0.10      0.02      0.03     12891\n",
      "      macro avg       0.10      0.01      0.02     12891\n",
      "   weighted avg       0.20      0.02      0.03     12891\n",
      "\n"
     ]
    }
   ],
   "source": [
    "# Baseline Model: random assign\n",
    "tags = set()\n",
    "for i in range(len(df)):\n",
    "     tags.add(df['hashtags'][i])\n",
    "        \n",
    "d_test = df.copy()\n",
    "d_test = d_test.drop(['hashtags'],axis= 1)\n",
    "d_test['test_tags'] = None\n",
    "\n",
    "tag_len = len(tags)-1\n",
    "tags = list(tags)\n",
    "for j in range(len(df)):\n",
    "    sel = random.randint(0,tag_len)\n",
    "    d_test['test_tags'][j] = tags[sel]\n",
    "\n",
    "y_true = np.array(df['hashtags'])\n",
    "y_pred = np.array(d_test['test_tags'])\n",
    "\n",
    "print(classification_report(y_true,y_pred, labels = ['vaccinemandate', 'vaccinepassport','greenpass','covid']))"
   ]
  },
  {
   "cell_type": "markdown",
   "id": "4ce58bac",
   "metadata": {},
   "source": [
    "**Preoprocess data**"
   ]
  },
  {
   "cell_type": "code",
   "execution_count": 23,
   "id": "755351be",
   "metadata": {},
   "outputs": [],
   "source": [
    "#split X Y (straitified)\n",
    "def load_data(data):\n",
    "    x = data['tweet'].tolist()\n",
    "    y = data['hashtags'].tolist()\n",
    "    return x, y\n",
    "\n",
    "X, y = load_data(df)\n",
    "X_train, X_test, y_train, y_test = train_test_split(X, y, test_size=0.2, random_state=42, stratify = y)"
   ]
  },
  {
   "cell_type": "markdown",
   "id": "ca8e4aba",
   "metadata": {},
   "source": [
    "**TF-IDF Vectorize  \n",
    "Find the best max_feature(using MultinomialNB)**"
   ]
  },
  {
   "cell_type": "code",
   "execution_count": 63,
   "id": "e3e170d8",
   "metadata": {},
   "outputs": [],
   "source": [
    "def TFIDF_n_features_mnb(n, X_train, y_train, X_test, y_test) -> tuple:\n",
    "    \n",
    "    vec = TfidfVectorizer(max_features = n)\n",
    "    \n",
    "    # Feature Extraction\n",
    "    X_tr = vec.fit_transform(X_train)\n",
    "    X_tst  = vec.transform(X_test)\n",
    "    # Train Model\n",
    "    model_mnb = MultinomialNB()\n",
    "    model_mnb.fit(X_tr, y_train)\n",
    "    \n",
    "    # Predict\n",
    "    pred = model_mnb.predict(X_tst)\n",
    "   \n",
    "    return metrics.accuracy_score(y_test,pred)"
   ]
  },
  {
   "cell_type": "code",
   "execution_count": 46,
   "id": "f2c58df0",
   "metadata": {},
   "outputs": [
    {
     "data": {
      "image/png": "[encoded data removed]",
      "text/plain": [
       "<Figure size 432x288 with 1 Axes>"
      ]
     },
     "metadata": {
      "needs_background": "light"
     },
     "output_type": "display_data"
    }
   ],
   "source": [
    "# Select optimal max_features, from 100 to 2000\n",
    "features_n = [100 * i for i in range(1, 20)]\n",
    "\n",
    "tfidf_accuracy = []\n",
    "\n",
    "\n",
    "for i in features_n:\n",
    "    tfidf_accuracy.append(TFIDF_n_features_mnb(i, X_train, y_train, X_test, y_test))\n",
    "\n",
    "import matplotlib.pyplot as plt\n",
    "get_ipython().run_line_magic('matplotlib', 'inline')\n",
    "\n",
    "plt.plot(features_n, tfidf_accuracy, label='Tf-idf')\n",
    "plt.xlabel('max_feature')\n",
    "plt.ylabel('Accuracy')\n",
    "plt.grid()\n",
    "plt.legend()\n",
    "plt.show()"
   ]
  },
  {
   "cell_type": "markdown",
   "id": "dc63c6d6",
   "metadata": {},
   "source": [
    "Best max_features = 100"
   ]
  },
  {
   "cell_type": "markdown",
   "id": "76922857",
   "metadata": {},
   "source": [
    "**tf-idf vectorize X**"
   ]
  },
  {
   "cell_type": "code",
   "execution_count": 48,
   "id": "80437fb7",
   "metadata": {},
   "outputs": [],
   "source": [
    "def tfidf_vec(X_train, X_test):\n",
    "    vec = TfidfVectorizer(max_features = 100)\n",
    "    X_tr = vec.fit_transform(X_train)\n",
    "    X_tst  = vec.transform(X_test)\n",
    "    return X_tr, X_tst"
   ]
  },
  {
   "cell_type": "code",
   "execution_count": 49,
   "id": "419875a3",
   "metadata": {},
   "outputs": [],
   "source": [
    "X_train, X_test = tfidf_vec(X_train, X_test)"
   ]
  },
  {
   "cell_type": "code",
   "execution_count": 51,
   "id": "aa9a0c78",
   "metadata": {},
   "outputs": [
    {
     "data": {
      "text/plain": [
       "((24253, 100), (6064, 100))"
      ]
     },
     "execution_count": 51,
     "metadata": {},
     "output_type": "execute_result"
    }
   ],
   "source": [
    "X_train.shape, X_test.shape"
   ]
  },
  {
   "cell_type": "markdown",
   "id": "57ba970e",
   "metadata": {},
   "source": [
    "**Modeling wtih tf_idf vec**"
   ]
  },
  {
   "cell_type": "code",
   "execution_count": 52,
   "id": "7b8fe7b1",
   "metadata": {},
   "outputs": [
    {
     "name": "stdout",
     "output_type": "stream",
     "text": [
      "                 precision    recall  f1-score   support\n",
      "\n",
      " vaccinemandate       0.37      0.96      0.53      1653\n",
      "vaccinepassport       0.42      0.28      0.33       561\n",
      "      greenpass       0.50      0.61      0.55       210\n",
      "          covid       0.57      0.03      0.05       155\n",
      "\n",
      "      micro avg       0.38      0.73      0.50      2579\n",
      "      macro avg       0.46      0.47      0.36      2579\n",
      "   weighted avg       0.40      0.73      0.46      2579\n",
      "\n"
     ]
    }
   ],
   "source": [
    "# multinomialNB\n",
    "model_mnb_tf = MultinomialNB()\n",
    "model_mnb_tf.fit(X_train,y_train)\n",
    "    \n",
    "# Predict\n",
    "pred = model_mnb_tf.predict(X_test)\n",
    "print(classification_report(y_test, pred, labels = ['vaccinemandate', 'vaccinepassport','greenpass','covid']))"
   ]
  },
  {
   "cell_type": "code",
   "execution_count": 74,
   "id": "5dbebb59",
   "metadata": {},
   "outputs": [
    {
     "name": "stdout",
     "output_type": "stream",
     "text": [
      "                 precision    recall  f1-score   support\n",
      "\n",
      " vaccinemandate       0.53      0.79      0.64      1653\n",
      "vaccinepassport       0.48      0.61      0.54       561\n",
      "      greenpass       0.50      0.72      0.59       210\n",
      "          covid       0.17      0.14      0.15       155\n",
      "\n",
      "      micro avg       0.51      0.71      0.59      2579\n",
      "      macro avg       0.42      0.56      0.48      2579\n",
      "   weighted avg       0.50      0.71      0.58      2579\n",
      "\n"
     ]
    }
   ],
   "source": [
    "#logistic regression\n",
    "model_log_tf = LogisticRegression(random_state=0, max_iter = 1000)\n",
    "model_log_tf.fit(X_train,y_train)\n",
    "\n",
    "# Predict\n",
    "pred = model_log_tf.predict(X_test)\n",
    "print(classification_report(y_test, pred, labels = ['vaccinemandate', 'vaccinepassport','greenpass','covid']))"
   ]
  },
  {
   "cell_type": "code",
   "execution_count": 55,
   "id": "f79f73ad",
   "metadata": {},
   "outputs": [
    {
     "name": "stdout",
     "output_type": "stream",
     "text": [
      "                 precision    recall  f1-score   support\n",
      "\n",
      " vaccinemandate       0.52      0.76      0.61      1653\n",
      "vaccinepassport       0.54      0.51      0.52       561\n",
      "      greenpass       0.41      0.70      0.51       210\n",
      "          covid       0.19      0.08      0.12       155\n",
      "\n",
      "      micro avg       0.50      0.66      0.57      2579\n",
      "      macro avg       0.41      0.51      0.44      2579\n",
      "   weighted avg       0.49      0.66      0.56      2579\n",
      "\n"
     ]
    }
   ],
   "source": [
    "#svm\n",
    "model_svc_tf = svm.SVC(kernel='linear')\n",
    "model_svc_tf.fit(X_train,y_train)\n",
    "\n",
    "#predict\n",
    "pred = model_svc_tf.predict(X_test)\n",
    "print(classification_report(y_test, pred, labels = ['vaccinemandate', 'vaccinepassport','greenpass','covid']))"
   ]
  },
  {
   "cell_type": "code",
   "execution_count": 56,
   "id": "5af36767",
   "metadata": {},
   "outputs": [
    {
     "name": "stdout",
     "output_type": "stream",
     "text": [
      "                 precision    recall  f1-score   support\n",
      "\n",
      " vaccinemandate       0.47      0.51      0.49      1653\n",
      "vaccinepassport       0.41      0.40      0.41       561\n",
      "      greenpass       0.43      0.48      0.45       210\n",
      "          covid       0.02      0.02      0.02       155\n",
      "\n",
      "      micro avg       0.43      0.45      0.44      2579\n",
      "      macro avg       0.33      0.35      0.34      2579\n",
      "   weighted avg       0.43      0.45      0.44      2579\n",
      "\n"
     ]
    }
   ],
   "source": [
    "# Random Forest\n",
    "rdf_tf = RandomForestClassifier(n_estimators = 20, criterion = 'entropy', random_state = 42,max_features = 'sqrt',bootstrap=True,max_depth = 100)\n",
    "rdf_tf.fit(X_train, y_train)\n",
    "pred_rf = rdf_tf.predict(X_test)\n",
    "print(classification_report(y_test, pred_rf, labels = ['vaccinemandate', 'vaccinepassport','greenpass','covid']))\n"
   ]
  },
  {
   "cell_type": "code",
   "execution_count": 61,
   "id": "156e45a9",
   "metadata": {},
   "outputs": [
    {
     "name": "stdout",
     "output_type": "stream",
     "text": [
      "[00:29:10] WARNING: /opt/concourse/worker/volumes/live/7a2b9f41-3287-451b-6691-43e9a6c0910f/volume/xgboost-split_1619728204606/work/src/learner.cc:1061: Starting in XGBoost 1.3.0, the default evaluation metric used with the objective 'multi:softprob' was changed from 'merror' to 'mlogloss'. Explicitly set eval_metric if you'd like to restore the old behavior.\n",
      "                 precision    recall  f1-score   support\n",
      "\n",
      " vaccinemandate       0.51      0.86      0.64      1653\n",
      "vaccinepassport       0.45      0.71      0.56       561\n",
      "      greenpass       0.47      0.75      0.58       210\n",
      "          covid       0.67      0.01      0.03       155\n",
      "\n",
      "      micro avg       0.50      0.77      0.60      2579\n",
      "      macro avg       0.53      0.58      0.45      2579\n",
      "   weighted avg       0.51      0.77      0.58      2579\n",
      "\n"
     ]
    }
   ],
   "source": [
    "# xgbboost\n",
    "xgb_tf = xgb.XGBClassifier(max_depth=6, n_estimators=2, colsample_bytree=0.8, subsample=0.8, nthread=10, learning_rate=0.1)\n",
    "xgb_tf.fit(X_train, y_train)\n",
    "pred_xgb = xgb_tf.predict(X_test)\n",
    "print(classification_report(y_test, pred_xgb, labels = ['vaccinemandate', 'vaccinepassport','greenpass','covid']))"
   ]
  },
  {
   "cell_type": "markdown",
   "id": "dbda93e1",
   "metadata": {},
   "source": [
    "**CountVec**"
   ]
  },
  {
   "cell_type": "code",
   "execution_count": 62,
   "id": "235e139c",
   "metadata": {},
   "outputs": [],
   "source": [
    "X_train, X_test, y_train, y_test = train_test_split(X, y, test_size=0.2, random_state=42, stratify = y)"
   ]
  },
  {
   "cell_type": "code",
   "execution_count": 64,
   "id": "3ce7a903",
   "metadata": {},
   "outputs": [],
   "source": [
    "def Count_n_features_mnb(n, X_train, y_train, X_test, y_test) -> tuple:\n",
    "    \n",
    "    cou = CountVectorizer(max_features = n)\n",
    "    \n",
    "    # Feature Extraction\n",
    "    X_tr = cou.fit_transform(X_train)\n",
    "    X_tst  = cou.transform(X_test)\n",
    "    # Train Model\n",
    "    model_mnb = MultinomialNB()\n",
    "    model_mnb.fit(X_tr, y_train)\n",
    "    \n",
    "    # Predict\n",
    "    pred = model_mnb.predict(X_tst)\n",
    "   \n",
    "    return metrics.accuracy_score(y_test,pred)"
   ]
  },
  {
   "cell_type": "code",
   "execution_count": 68,
   "id": "b5c5492e",
   "metadata": {},
   "outputs": [
    {
     "data": {
      "image/png": "[encoded data removed]",
      "text/plain": [
       "<Figure size 432x288 with 1 Axes>"
      ]
     },
     "metadata": {
      "needs_background": "light"
     },
     "output_type": "display_data"
    }
   ],
   "source": [
    "# Select optimal max_features, from 100 to 2000\n",
    "features_n = [100 * i for i in range(1, 20)]\n",
    "\n",
    "count_accuracy = []\n",
    "\n",
    "\n",
    "for i in features_n:\n",
    "    count_accuracy.append(Count_n_features_mnb(i, X_train, y_train, X_test, y_test))\n",
    "\n",
    "import matplotlib.pyplot as plt\n",
    "get_ipython().run_line_magic('matplotlib', 'inline')\n",
    "\n",
    "plt.plot(features_n, count_accuracy, label='Tf-idf')\n",
    "plt.xlabel('max_feature')\n",
    "plt.ylabel('Accuracy')\n",
    "plt.grid()\n",
    "plt.legend()\n",
    "plt.show()"
   ]
  },
  {
   "cell_type": "markdown",
   "id": "4c6dbb50",
   "metadata": {},
   "source": [
    "Max_feaertu = 100 have best accuracy"
   ]
  },
  {
   "cell_type": "markdown",
   "id": "bf600bb3",
   "metadata": {},
   "source": [
    "**Count vectorize**"
   ]
  },
  {
   "cell_type": "code",
   "execution_count": 70,
   "id": "5b008cc7",
   "metadata": {},
   "outputs": [],
   "source": [
    "def count_vec(X_train, X_test):\n",
    "    vec = CountVectorizer(max_features = 100)\n",
    "    X_tr = vec.fit_transform(X_train)\n",
    "    X_tst  = vec.transform(X_test)\n",
    "    return X_tr, X_tst"
   ]
  },
  {
   "cell_type": "code",
   "execution_count": 71,
   "id": "2ad8237a",
   "metadata": {},
   "outputs": [],
   "source": [
    "X_train, X_test = tfidf_vec(X_train, X_test)"
   ]
  },
  {
   "cell_type": "code",
   "execution_count": 72,
   "id": "81ce8b62",
   "metadata": {},
   "outputs": [
    {
     "data": {
      "text/plain": [
       "((24253, 100), (6064, 100))"
      ]
     },
     "execution_count": 72,
     "metadata": {},
     "output_type": "execute_result"
    }
   ],
   "source": [
    "X_train.shape, X_test.shape"
   ]
  },
  {
   "cell_type": "markdown",
   "id": "fc7f5533",
   "metadata": {},
   "source": [
    "**Modeling wtih countvec**"
   ]
  },
  {
   "cell_type": "code",
   "execution_count": 73,
   "id": "8a52f99e",
   "metadata": {},
   "outputs": [
    {
     "name": "stdout",
     "output_type": "stream",
     "text": [
      "                 precision    recall  f1-score   support\n",
      "\n",
      " vaccinemandate       0.37      0.96      0.53      1653\n",
      "vaccinepassport       0.42      0.28      0.33       561\n",
      "      greenpass       0.50      0.61      0.55       210\n",
      "          covid       0.57      0.03      0.05       155\n",
      "\n",
      "      micro avg       0.38      0.73      0.50      2579\n",
      "      macro avg       0.46      0.47      0.36      2579\n",
      "   weighted avg       0.40      0.73      0.46      2579\n",
      "\n"
     ]
    }
   ],
   "source": [
    "# multinomialNB\n",
    "model_mnb_cou = MultinomialNB()\n",
    "model_mnb_cou.fit(X_train,y_train)\n",
    "    \n",
    "# Predict\n",
    "pred = model_mnb_cou.predict(X_test)\n",
    "print(classification_report(y_test, pred, labels = ['vaccinemandate', 'vaccinepassport','greenpass','covid']))"
   ]
  },
  {
   "cell_type": "code",
   "execution_count": 76,
   "id": "899c16df",
   "metadata": {},
   "outputs": [
    {
     "name": "stdout",
     "output_type": "stream",
     "text": [
      "                 precision    recall  f1-score   support\n",
      "\n",
      " vaccinemandate       0.53      0.79      0.64      1653\n",
      "vaccinepassport       0.48      0.61      0.54       561\n",
      "      greenpass       0.50      0.72      0.59       210\n",
      "          covid       0.17      0.14      0.15       155\n",
      "\n",
      "      micro avg       0.51      0.71      0.59      2579\n",
      "      macro avg       0.42      0.56      0.48      2579\n",
      "   weighted avg       0.50      0.71      0.58      2579\n",
      "\n"
     ]
    }
   ],
   "source": [
    "#logistic regression\n",
    "model_log_cou = LogisticRegression(random_state=0, max_iter = 1000)\n",
    "model_log_cou.fit(X_train,y_train)\n",
    "\n",
    "# Predict\n",
    "pred = model_log_cou.predict(X_test)\n",
    "print(classification_report(y_test, pred, labels = ['vaccinemandate', 'vaccinepassport','greenpass','covid']))"
   ]
  },
  {
   "cell_type": "code",
   "execution_count": 77,
   "id": "b97cccfc",
   "metadata": {},
   "outputs": [
    {
     "name": "stdout",
     "output_type": "stream",
     "text": [
      "                 precision    recall  f1-score   support\n",
      "\n",
      " vaccinemandate       0.52      0.76      0.61      1653\n",
      "vaccinepassport       0.54      0.51      0.52       561\n",
      "      greenpass       0.41      0.70      0.51       210\n",
      "          covid       0.19      0.08      0.12       155\n",
      "\n",
      "      micro avg       0.50      0.66      0.57      2579\n",
      "      macro avg       0.41      0.51      0.44      2579\n",
      "   weighted avg       0.49      0.66      0.56      2579\n",
      "\n"
     ]
    }
   ],
   "source": [
    "#svm\n",
    "model_svc_cou = svm.SVC(kernel='linear')\n",
    "model_svc_cou.fit(X_train,y_train)\n",
    "\n",
    "#predict\n",
    "pred = model_svc_cou.predict(X_test)\n",
    "print(classification_report(y_test, pred, labels = ['vaccinemandate', 'vaccinepassport','greenpass','covid']))"
   ]
  },
  {
   "cell_type": "code",
   "execution_count": 78,
   "id": "5f2b72a5",
   "metadata": {},
   "outputs": [
    {
     "name": "stdout",
     "output_type": "stream",
     "text": [
      "                 precision    recall  f1-score   support\n",
      "\n",
      " vaccinemandate       0.47      0.51      0.49      1653\n",
      "vaccinepassport       0.41      0.40      0.41       561\n",
      "      greenpass       0.43      0.48      0.45       210\n",
      "          covid       0.02      0.02      0.02       155\n",
      "\n",
      "      micro avg       0.43      0.45      0.44      2579\n",
      "      macro avg       0.33      0.35      0.34      2579\n",
      "   weighted avg       0.43      0.45      0.44      2579\n",
      "\n"
     ]
    }
   ],
   "source": [
    "# Random Forest\n",
    "rdf_cou = RandomForestClassifier(n_estimators = 20, criterion = 'entropy', random_state = 42,max_features = 'sqrt',bootstrap=True,max_depth = 100)\n",
    "rdf_cou.fit(X_train, y_train)\n",
    "pred_rf = rdf_cou.predict(X_test)\n",
    "print(classification_report(y_test, pred_rf, labels = ['vaccinemandate', 'vaccinepassport','greenpass','covid']))\n"
   ]
  },
  {
   "cell_type": "code",
   "execution_count": 81,
   "id": "58f8cd59",
   "metadata": {},
   "outputs": [
    {
     "name": "stdout",
     "output_type": "stream",
     "text": [
      "[00:39:54] WARNING: /opt/concourse/worker/volumes/live/7a2b9f41-3287-451b-6691-43e9a6c0910f/volume/xgboost-split_1619728204606/work/src/learner.cc:1061: Starting in XGBoost 1.3.0, the default evaluation metric used with the objective 'multi:softprob' was changed from 'merror' to 'mlogloss'. Explicitly set eval_metric if you'd like to restore the old behavior.\n",
      "                 precision    recall  f1-score   support\n",
      "\n",
      " vaccinemandate       0.51      0.86      0.64      1653\n",
      "      covidpass       0.00      0.00      0.00         0\n",
      "vaccinepassport       0.45      0.71      0.56       561\n",
      "        covid19       0.17      0.23      0.20       488\n",
      "      greenpass       0.47      0.75      0.58       210\n",
      "\n",
      "      micro avg       0.45      0.72      0.55      2912\n",
      "      macro avg       0.32      0.51      0.40      2912\n",
      "   weighted avg       0.44      0.72      0.55      2912\n",
      "\n"
     ]
    }
   ],
   "source": [
    "# xgbboost\n",
    "clf_cou = xgb.XGBClassifier(max_depth=6, n_estimators=2, colsample_bytree=0.8, subsample=0.8, nthread=10, learning_rate=0.1)\n",
    "clf_cou.fit(X_train, y_train)\n",
    "pred_xgb = clf_cou.predict(X_test)\n",
    "print(classification_report(y_test, pred_xgb, labels = ['vaccinemandate', 'covidpass','vaccinepassport', 'covid19','greenpass']))"
   ]
  },
  {
   "cell_type": "markdown",
   "id": "c3e6ecd6",
   "metadata": {},
   "source": [
    "**# xgboost with tf-idf have the best performance overall for its mricro avg, macro avg and weight avg**"
   ]
  },
  {
   "cell_type": "code",
   "execution_count": 83,
   "id": "1cc9da08",
   "metadata": {},
   "outputs": [
    {
     "data": {
      "text/plain": [
       "['xgb_tfidf.sav']"
      ]
     },
     "execution_count": 83,
     "metadata": {},
     "output_type": "execute_result"
    }
   ],
   "source": [
    "#save the best model\n",
    "filename = 'xgb_tfidf.sav'\n",
    "joblib.dump(xgb_tf, filename)"
   ]
  }
 ],
 "metadata": {
  "kernelspec": {
   "display_name": "Python 3",
   "language": "python",
   "name": "python3"
  },
  "language_info": {
   "codemirror_mode": {
    "name": "ipython",
    "version": 3
   },
   "file_extension": ".py",
   "mimetype": "text/x-python",
   "name": "python",
   "nbconvert_exporter": "python",
   "pygments_lexer": "ipython3",
   "version": "3.8.8"
  }
 },
 "nbformat": 4,
 "nbformat_minor": 5
}
