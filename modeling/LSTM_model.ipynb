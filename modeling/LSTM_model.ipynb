{
  "nbformat": 4,
  "nbformat_minor": 0,
  "metadata": {
    "colab": {
      "name": "LSTM_model.ipynb",
      "provenance": [],
      "collapsed_sections": []
    },
    "kernelspec": {
      "name": "python3",
      "display_name": "Python 3"
    },
    "language_info": {
      "name": "python"
    }
  },
  "cells": [
    {
      "cell_type": "code",
      "metadata": {
        "id": "Iu_PH43oHu17"
      },
      "source": [
        "import numpy as np\n",
        "import pandas as pd\n",
        "import random\n",
        "\n",
        "from sklearn.metrics import classification_report\n",
        "\n",
        "from sklearn.model_selection import train_test_split\n",
        "\n",
        "from sklearn.feature_extraction.text import TfidfVectorizer\n",
        "\n",
        "import ast\n",
        "from ast import literal_eval\n",
        "import nltk\n",
        "\n",
        "from keras.preprocessing.text import Tokenizer\n",
        "from keras.preprocessing.sequence import pad_sequences\n",
        "\n",
        "from matplotlib import pyplot as plt\n",
        "\n",
        "from tqdm import tqdm\n",
        "from keras.models import Sequential\n",
        "from keras.layers.recurrent import LSTM, GRU\n",
        "from keras.layers.core import Dense, Activation, Dropout\n",
        "from keras.callbacks import EarlyStopping\n",
        "from keras.layers.embeddings import Embedding\n",
        "from keras.layers import GlobalMaxPooling1D, Conv1D, MaxPooling1D, Flatten, Bidirectional, SpatialDropout1D"
      ],
      "execution_count": 10,
      "outputs": []
    },
    {
      "cell_type": "code",
      "metadata": {
        "colab": {
          "base_uri": "https://localhost:8080/"
        },
        "id": "tfSHR-q7H5Ao",
        "outputId": "11f54b38-3735-4b5f-ecdc-7a9df12deea6"
      },
      "source": [
        "from google.colab import drive\n",
        "drive.mount('/content/gdrive', force_remount=True)"
      ],
      "execution_count": null,
      "outputs": [
        {
          "output_type": "stream",
          "name": "stdout",
          "text": [
            "Mounted at /content/gdrive\n"
          ]
        }
      ]
    },
    {
      "cell_type": "code",
      "metadata": {
        "id": "tsSGMVWRGkX4"
      },
      "source": [
        "df = pd.read_csv('gdrive/My Drive/ise540/cleaned_data.csv')"
      ],
      "execution_count": null,
      "outputs": []
    },
    {
      "cell_type": "code",
      "metadata": {
        "id": "H3a4CORLQT6J"
      },
      "source": [
        "#make hashtags into lists\n",
        "l = []\n",
        "s = []\n",
        "for index, row in df.iterrows():\n",
        "    ht = row['tweet']\n",
        "    l.append(ast.literal_eval(ht))\n",
        "    s.append(row['hashtags'])\n",
        "    df_new = pd.DataFrame()\n",
        "df_new['hashtags'] = s\n",
        "df_new['tweet'] = l"
      ],
      "execution_count": 11,
      "outputs": []
    },
    {
      "cell_type": "code",
      "metadata": {
        "id": "HmqKvlohHbOx"
      },
      "source": [
        "#convert list to string\n",
        "df_new['text'] = df_new['tweet'].apply(lambda x: ' '.join(x))"
      ],
      "execution_count": 13,
      "outputs": []
    },
    {
      "cell_type": "code",
      "metadata": {
        "colab": {
          "base_uri": "https://localhost:8080/",
          "height": 424
        },
        "id": "2ArKBgIiIpZm",
        "outputId": "e76f3b94-9c5d-496b-dbd3-ad408a8b38d5"
      },
      "source": [
        "df_new"
      ],
      "execution_count": 27,
      "outputs": [
        {
          "output_type": "execute_result",
          "data": {
            "text/html": [
              "<div>\n",
              "<style scoped>\n",
              "    .dataframe tbody tr th:only-of-type {\n",
              "        vertical-align: middle;\n",
              "    }\n",
              "\n",
              "    .dataframe tbody tr th {\n",
              "        vertical-align: top;\n",
              "    }\n",
              "\n",
              "    .dataframe thead th {\n",
              "        text-align: right;\n",
              "    }\n",
              "</style>\n",
              "<table border=\"1\" class=\"dataframe\">\n",
              "  <thead>\n",
              "    <tr style=\"text-align: right;\">\n",
              "      <th></th>\n",
              "      <th>hashtags</th>\n",
              "      <th>tweet</th>\n",
              "      <th>text</th>\n",
              "    </tr>\n",
              "  </thead>\n",
              "  <tbody>\n",
              "    <tr>\n",
              "      <th>0</th>\n",
              "      <td>covid19</td>\n",
              "      <td>[covid19, era, normal, influenza, season, lot,...</td>\n",
              "      <td>covid19 era normal influenza season lot peopl ...</td>\n",
              "    </tr>\n",
              "    <tr>\n",
              "      <th>1</th>\n",
              "      <td>greenpass</td>\n",
              "      <td>[covid19, era, normal, influenza, season, lot,...</td>\n",
              "      <td>covid19 era normal influenza season lot peopl ...</td>\n",
              "    </tr>\n",
              "    <tr>\n",
              "      <th>2</th>\n",
              "      <td>greenpass</td>\n",
              "      <td>[brussel, march, greenpass, novaccinepassport,...</td>\n",
              "      <td>brussel march greenpass novaccinepassport nova...</td>\n",
              "    </tr>\n",
              "    <tr>\n",
              "      <th>3</th>\n",
              "      <td>novaccinepassports</td>\n",
              "      <td>[brussel, march, greenpass, novaccinepassport,...</td>\n",
              "      <td>brussel march greenpass novaccinepassport nova...</td>\n",
              "    </tr>\n",
              "    <tr>\n",
              "      <th>4</th>\n",
              "      <td>novaccinemandates</td>\n",
              "      <td>[brussel, march, greenpass, novaccinepassport,...</td>\n",
              "      <td>brussel march greenpass novaccinepassport nova...</td>\n",
              "    </tr>\n",
              "    <tr>\n",
              "      <th>...</th>\n",
              "      <td>...</td>\n",
              "      <td>...</td>\n",
              "      <td>...</td>\n",
              "    </tr>\n",
              "    <tr>\n",
              "      <th>30312</th>\n",
              "      <td>covidiots</td>\n",
              "      <td>[dr, fleme, covid, caus, solut, covid19, covid...</td>\n",
              "      <td>dr fleme covid caus solut covid19 covid1984 co...</td>\n",
              "    </tr>\n",
              "    <tr>\n",
              "      <th>30313</th>\n",
              "      <td>vaccinesideeffects</td>\n",
              "      <td>[dr, fleme, covid, caus, solut, covid19, covid...</td>\n",
              "      <td>dr fleme covid caus solut covid19 covid1984 co...</td>\n",
              "    </tr>\n",
              "    <tr>\n",
              "      <th>30314</th>\n",
              "      <td>vaccinepassport</td>\n",
              "      <td>[dr, fleme, covid, caus, solut, covid19, covid...</td>\n",
              "      <td>dr fleme covid caus solut covid19 covid1984 co...</td>\n",
              "    </tr>\n",
              "    <tr>\n",
              "      <th>30315</th>\n",
              "      <td>vaccinemandate</td>\n",
              "      <td>[dr, fleme, covid, caus, solut, covid19, covid...</td>\n",
              "      <td>dr fleme covid caus solut covid19 covid1984 co...</td>\n",
              "    </tr>\n",
              "    <tr>\n",
              "      <th>30316</th>\n",
              "      <td>resist</td>\n",
              "      <td>[dr, fleme, covid, caus, solut, covid19, covid...</td>\n",
              "      <td>dr fleme covid caus solut covid19 covid1984 co...</td>\n",
              "    </tr>\n",
              "  </tbody>\n",
              "</table>\n",
              "<p>30317 rows × 3 columns</p>\n",
              "</div>"
            ],
            "text/plain": [
              "                 hashtags  ...                                               text\n",
              "0                 covid19  ...  covid19 era normal influenza season lot peopl ...\n",
              "1               greenpass  ...  covid19 era normal influenza season lot peopl ...\n",
              "2               greenpass  ...  brussel march greenpass novaccinepassport nova...\n",
              "3      novaccinepassports  ...  brussel march greenpass novaccinepassport nova...\n",
              "4       novaccinemandates  ...  brussel march greenpass novaccinepassport nova...\n",
              "...                   ...  ...                                                ...\n",
              "30312           covidiots  ...  dr fleme covid caus solut covid19 covid1984 co...\n",
              "30313  vaccinesideeffects  ...  dr fleme covid caus solut covid19 covid1984 co...\n",
              "30314     vaccinepassport  ...  dr fleme covid caus solut covid19 covid1984 co...\n",
              "30315      vaccinemandate  ...  dr fleme covid caus solut covid19 covid1984 co...\n",
              "30316              resist  ...  dr fleme covid caus solut covid19 covid1984 co...\n",
              "\n",
              "[30317 rows x 3 columns]"
            ]
          },
          "metadata": {},
          "execution_count": 27
        }
      ]
    },
    {
      "cell_type": "code",
      "metadata": {
        "colab": {
          "base_uri": "https://localhost:8080/"
        },
        "id": "j6S6tF5-VYKM",
        "outputId": "a090d78c-9a82-4eaf-ddb9-6deb520244c2"
      },
      "source": [
        "# The maximum number of words to be used. (most frequent)\n",
        "MAX_NB_WORDS = 1000\n",
        "# Max number of words in each complaint.\n",
        "MAX_SEQUENCE_LENGTH = 100\n",
        "# This is fixed.\n",
        "EMBEDDING_DIM = 100\n",
        "tokenizer = Tokenizer(num_words=MAX_NB_WORDS, filters='!\"#$%&()*+,-./:;<=>?@[\\]^_`{|}~', lower=True)\n",
        "tokenizer.fit_on_texts(df_new['text'].values)\n",
        "word_index = tokenizer.word_index\n",
        "print('Found %s unique tokens.' % len(word_index))"
      ],
      "execution_count": 23,
      "outputs": [
        {
          "output_type": "stream",
          "name": "stdout",
          "text": [
            "Found 30418 unique tokens.\n"
          ]
        }
      ]
    },
    {
      "cell_type": "code",
      "metadata": {
        "colab": {
          "base_uri": "https://localhost:8080/"
        },
        "id": "ewM-pr_nWgGg",
        "outputId": "a7d23f29-70a3-415b-b040-2b713166df57"
      },
      "source": [
        "#tokennize words\n",
        "X = tokenizer.texts_to_sequences(df_new['text'].values)\n",
        "X = pad_sequences(X, maxlen=MAX_SEQUENCE_LENGTH)\n",
        "print('Shape of data tensor:', X.shape)"
      ],
      "execution_count": 24,
      "outputs": [
        {
          "output_type": "stream",
          "name": "stdout",
          "text": [
            "Shape of data tensor: (30317, 100)\n"
          ]
        }
      ]
    },
    {
      "cell_type": "code",
      "metadata": {
        "colab": {
          "base_uri": "https://localhost:8080/"
        },
        "id": "bACmo77lXEJg",
        "outputId": "2dc12f74-b46c-4995-e743-e9466c38ec12"
      },
      "source": [
        "Y = pd.get_dummies(df_new['hashtags']).values\n",
        "print('Shape of label tensor:', Y.shape)"
      ],
      "execution_count": 25,
      "outputs": [
        {
          "output_type": "stream",
          "name": "stdout",
          "text": [
            "Shape of label tensor: (30317, 60)\n"
          ]
        }
      ]
    },
    {
      "cell_type": "code",
      "metadata": {
        "id": "p5OkqH5nSg4Y"
      },
      "source": [
        "X_train, X_test, Y_train, Y_test = train_test_split(X, Y, test_size=0.2, random_state=42)"
      ],
      "execution_count": 26,
      "outputs": []
    },
    {
      "cell_type": "code",
      "metadata": {
        "colab": {
          "base_uri": "https://localhost:8080/"
        },
        "id": "yzYyZRBgSUCP",
        "outputId": "29f4a3bd-e1e2-463e-df08-a9fd29a45cd1"
      },
      "source": [
        "model = Sequential()\n",
        "model.add(Embedding(MAX_NB_WORDS, EMBEDDING_DIM, input_length=X.shape[1]))\n",
        "model.add(SpatialDropout1D(0.2))\n",
        "model.add(LSTM(100, dropout=0.2, recurrent_dropout=0.2))\n",
        "model.add(Dense(60, activation='softmax'))\n",
        "model.compile(loss='categorical_crossentropy', optimizer='adam', metrics=['accuracy'])\n",
        "\n",
        "epochs = 5\n",
        "batch_size = 64\n",
        "\n",
        "history = model.fit(X_train, Y_train, epochs=epochs, batch_size=batch_size,validation_split=0.1,callbacks=[EarlyStopping(monitor='val_loss', patience=3, min_delta=0.0001)])\n"
      ],
      "execution_count": 28,
      "outputs": [
        {
          "output_type": "stream",
          "name": "stdout",
          "text": [
            "Epoch 1/5\n",
            "342/342 [==============================] - 119s 337ms/step - loss: 2.8924 - accuracy: 0.3306 - val_loss: 2.5366 - val_accuracy: 0.3759\n",
            "Epoch 2/5\n",
            "342/342 [==============================] - 116s 339ms/step - loss: 2.3169 - accuracy: 0.3990 - val_loss: 2.2121 - val_accuracy: 0.3904\n",
            "Epoch 3/5\n",
            "342/342 [==============================] - 117s 342ms/step - loss: 2.0709 - accuracy: 0.4039 - val_loss: 2.0390 - val_accuracy: 0.3846\n",
            "Epoch 4/5\n",
            "342/342 [==============================] - 117s 342ms/step - loss: 1.9065 - accuracy: 0.4086 - val_loss: 1.8982 - val_accuracy: 0.3714\n",
            "Epoch 5/5\n",
            "342/342 [==============================] - 115s 336ms/step - loss: 1.7790 - accuracy: 0.4131 - val_loss: 1.8246 - val_accuracy: 0.3660\n"
          ]
        }
      ]
    },
    {
      "cell_type": "code",
      "metadata": {
        "colab": {
          "base_uri": "https://localhost:8080/",
          "height": 281
        },
        "id": "lGQBaIiYadgz",
        "outputId": "304a151f-621f-4fb1-ecd5-ecd7d27dc933"
      },
      "source": [
        "plt.title('Loss')\n",
        "plt.plot(history.history['loss'], label='train')\n",
        "plt.plot(history.history['val_loss'], label='test')\n",
        "plt.legend()\n",
        "plt.show();"
      ],
      "execution_count": 29,
      "outputs": [
        {
          "output_type": "display_data",
          "data": {
            "image/png": "[encoded data removed]",
            "text/plain": [
              "<Figure size 432x288 with 1 Axes>"
            ]
          },
          "metadata": {
            "needs_background": "light"
          }
        }
      ]
    },
    {
      "cell_type": "code",
      "metadata": {
        "colab": {
          "base_uri": "https://localhost:8080/",
          "height": 281
        },
        "id": "DebF5o-3asaZ",
        "outputId": "1b9f60f9-a6ed-4b14-9617-db8cbc95cbcb"
      },
      "source": [
        "plt.title('Accuracy')\n",
        "plt.plot(history.history['accuracy'], label='train')\n",
        "plt.plot(history.history['val_accuracy'], label='test')\n",
        "plt.legend()\n",
        "plt.show();"
      ],
      "execution_count": 30,
      "outputs": [
        {
          "output_type": "display_data",
          "data": {
            "image/png": "[encoded data removed]",
            "text/plain": [
              "<Figure size 432x288 with 1 Axes>"
            ]
          },
          "metadata": {
            "needs_background": "light"
          }
        }
      ]
    },
    {
      "cell_type": "code",
      "metadata": {
        "colab": {
          "base_uri": "https://localhost:8080/"
        },
        "id": "iL7MU9CWa9wC",
        "outputId": "f4048ca6-1eb0-4203-b2ad-cdecee0d7d98"
      },
      "source": [
        "model.summary()"
      ],
      "execution_count": 31,
      "outputs": [
        {
          "output_type": "stream",
          "name": "stdout",
          "text": [
            "Model: \"sequential_1\"\n",
            "_________________________________________________________________\n",
            " Layer (type)                Output Shape              Param #   \n",
            "=================================================================\n",
            " embedding_1 (Embedding)     (None, 100, 100)          100000    \n",
            "                                                                 \n",
            " spatial_dropout1d_1 (Spatia  (None, 100, 100)         0         \n",
            " lDropout1D)                                                     \n",
            "                                                                 \n",
            " lstm_1 (LSTM)               (None, 100)               80400     \n",
            "                                                                 \n",
            " dense_1 (Dense)             (None, 60)                6060      \n",
            "                                                                 \n",
            "=================================================================\n",
            "Total params: 186,460\n",
            "Trainable params: 186,460\n",
            "Non-trainable params: 0\n",
            "_________________________________________________________________\n"
          ]
        }
      ]
    },
    {
      "cell_type": "code",
      "metadata": {
        "id": "zz9cCPMtgGGV"
      },
      "source": [
        "Y = pd.get_dummies(df['hashtags'])\n",
        "a = pd.DataFrame(Y.idxmax(axis=1),columns = ['tag'])"
      ],
      "execution_count": 32,
      "outputs": []
    },
    {
      "cell_type": "code",
      "metadata": {
        "colab": {
          "base_uri": "https://localhost:8080/"
        },
        "id": "IqJD4np7bUwO",
        "outputId": "f4bf45dd-aaf3-4f8c-f319-e249f09e67b1"
      },
      "source": [
        "pred = model.predict(X_test)\n",
        "res = pd.DataFrame(pred)\n",
        "res.idxmax(axis=\"columns\").value_counts()"
      ],
      "execution_count": 34,
      "outputs": [
        {
          "output_type": "execute_result",
          "data": {
            "text/plain": [
              "53    2350\n",
              "55     675\n",
              "8      556\n",
              "18     358\n",
              "58     181\n",
              "32     176\n",
              "36     160\n",
              "26     159\n",
              "20     150\n",
              "24     102\n",
              "29     100\n",
              "12      98\n",
              "33      98\n",
              "56      89\n",
              "7       83\n",
              "13      75\n",
              "31      69\n",
              "14      68\n",
              "28      65\n",
              "30      56\n",
              "22      53\n",
              "39      52\n",
              "37      38\n",
              "6       37\n",
              "50      32\n",
              "11      32\n",
              "10      30\n",
              "16      23\n",
              "43      17\n",
              "5       11\n",
              "3        9\n",
              "1        9\n",
              "46       8\n",
              "2        7\n",
              "49       7\n",
              "52       6\n",
              "59       4\n",
              "21       4\n",
              "0        4\n",
              "9        3\n",
              "15       3\n",
              "17       2\n",
              "27       2\n",
              "25       1\n",
              "23       1\n",
              "35       1\n",
              "dtype: int64"
            ]
          },
          "metadata": {},
          "execution_count": 34
        }
      ]
    },
    {
      "cell_type": "code",
      "metadata": {
        "colab": {
          "base_uri": "https://localhost:8080/"
        },
        "id": "9VlSuC7ubvcC",
        "outputId": "f70f1fa3-f9c0-4a32-ebfc-b6f830cf29ed"
      },
      "source": [
        "print(classification_report(Y_test,pred, labels = [53,55,8,18]))"
      ],
      "execution_count": 41,
      "outputs": [
        {
          "output_type": "stream",
          "name": "stdout",
          "text": [
            "              precision    recall  f1-score   support\n",
            "\n",
            "          53       0.54      0.75      0.63      1692\n",
            "          55       0.52      0.62      0.56       564\n",
            "           8       0.22      0.26      0.24       477\n",
            "          18       0.49      0.80      0.61       222\n",
            "\n",
            "   micro avg       0.49      0.65      0.56      2955\n",
            "   macro avg       0.44      0.61      0.51      2955\n",
            "weighted avg       0.48      0.65      0.55      2955\n",
            "\n"
          ]
        }
      ]
    },
    {
      "cell_type": "code",
      "metadata": {
        "id": "WP9c1Z7yNNES"
      },
      "source": [
        ""
      ],
      "execution_count": null,
      "outputs": []
    }
  ]
}