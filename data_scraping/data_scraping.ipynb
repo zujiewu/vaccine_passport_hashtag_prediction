{
 "cells": [
  {
   "cell_type": "code",
   "execution_count": 3,
   "id": "44b7b71b",
   "metadata": {},
   "outputs": [],
   "source": [
    "import twint\n",
    "import nest_asyncio\n",
    "import pandas as pd\n",
    "pd.options.display.max_columns = 100\n",
    "nest_asyncio.apply()\n",
    "import glob\n",
    "import os\n",
    "import ast\n",
    "import json"
   ]
  },
  {
   "cell_type": "markdown",
   "id": "91562a7b",
   "metadata": {},
   "source": [
    "Use python package TWint to scrape data  \n",
    "Keyword with hashtag: #vaccinepassport, #novaccinepassport, #greenpass, #nogreenpass, #vaccinemandate, #novaccinemandate from 11/26 to 12/5  \n",
    "keyword: covid from 12/1 to 12/5 20000rows perday"
   ]
  },
  {
   "cell_type": "code",
   "execution_count": 2,
   "id": "26b4dcd1",
   "metadata": {},
   "outputs": [],
   "source": [
    "def data_scraping(key_word, file_name):\n",
    "    config = twint.Config()\n",
    "    config.Search = key_word\n",
    "    #language = english\n",
    "    config.Lang = 'en'\n",
    "    #exclude retweets\n",
    "    config.Filter_retweets = True\n",
    "    #save to csv\n",
    "    config.Store_csv = True\n",
    "    config.Output = file_name\n",
    "    twint.run.Search(config)"
   ]
  },
  {
   "cell_type": "code",
   "execution_count": 4,
   "id": "a77309af",
   "metadata": {},
   "outputs": [],
   "source": [
    "def concat_data(folder_name,file_name):\n",
    "    path = folder_name\n",
    "    all_files = glob.glob(path + \"/*.csv\")\n",
    "\n",
    "    li = []\n",
    "\n",
    "    for filename in all_files:\n",
    "        df = pd.read_csv(filename, index_col=None, header=0)\n",
    "        li.append(df)\n",
    "\n",
    "    frame = pd.concat(li, axis=0, ignore_index=True)\n",
    "    #select tweet in english\n",
    "    data = frame[frame['language'] == 'en']\n",
    "    #save only tweet and hashtags\n",
    "    data = data[[\"tweet\", \"hashtags\"]]\n",
    "    data.reset_index()\n",
    "    data.to_csv(file_name,index = False)"
   ]
  }
 ],
 "metadata": {
  "kernelspec": {
   "display_name": "Python 3",
   "language": "python",
   "name": "python3"
  },
  "language_info": {
   "codemirror_mode": {
    "name": "ipython",
    "version": 3
   },
   "file_extension": ".py",
   "mimetype": "text/x-python",
   "name": "python",
   "nbconvert_exporter": "python",
   "pygments_lexer": "ipython3",
   "version": "3.8.8"
  }
 },
 "nbformat": 4,
 "nbformat_minor": 5
}
