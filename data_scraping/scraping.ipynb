{
 "cells": [
  {
   "cell_type": "code",
   "execution_count": null,
   "id": "54a586cb",
   "metadata": {},
   "outputs": [],
   "source": [
    "import twint\n",
    "import nest_asyncio\n",
    "import pandas as pd\n",
    "pd.options.display.max_columns = 100\n",
    "nest_asyncio.apply()"
   ]
  },
  {
   "cell_type": "markdown",
   "id": "f61d1906",
   "metadata": {},
   "source": [
    "Use python package TWint to scrape data\n",
    "Keyword with hashtag: #vaccinepassport, #novaccinepassport, #greenpass, #nogreenpass from 11/26 to 12/5\n",
    "keyword: covid from 12/4 to 12/5"
   ]
  },
  {
   "cell_type": "code",
   "execution_count": null,
   "id": "74d6dafa",
   "metadata": {},
   "outputs": [],
   "source": [
    "def data_scraping(key_word, file_name):\n",
    "    config = twint.Config()\n",
    "    config.Search = key_word\n",
    "    #language = english\n",
    "    config.Lang = 'en'\n",
    "    #exclude retweets\n",
    "    config.Filter_retweets = True\n",
    "    #save to csv\n",
    "    config.Store_csv = True\n",
    "    config.Output = file_name\n",
    "    twint.run.Search(config)"
   ]
  },
  {
   "cell_type": "markdown",
   "id": "6c57f8ea",
   "metadata": {},
   "source": []
  }
 ],
 "metadata": {
  "kernelspec": {
   "display_name": "Python 3",
   "language": "python",
   "name": "python3"
  },
  "language_info": {
   "codemirror_mode": {
    "name": "ipython",
    "version": 3
   },
   "file_extension": ".py",
   "mimetype": "text/x-python",
   "name": "python",
   "nbconvert_exporter": "python",
   "pygments_lexer": "ipython3",
   "version": "3.6.13"
  }
 },
 "nbformat": 4,
 "nbformat_minor": 5
}
